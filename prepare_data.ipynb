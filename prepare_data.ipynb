{
  "nbformat": 4,
  "nbformat_minor": 0,
  "metadata": {
    "colab": {
      "provenance": [],
      "authorship_tag": "ABX9TyNcFGCHUG/pMwftBjhJCF22",
      "include_colab_link": true
    },
    "kernelspec": {
      "name": "python3",
      "display_name": "Python 3"
    },
    "language_info": {
      "name": "python"
    }
  },
  "cells": [
    {
      "cell_type": "markdown",
      "metadata": {
        "id": "view-in-github",
        "colab_type": "text"
      },
      "source": [
        "<a href=\"https://colab.research.google.com/github/jon4444/dry_beans_dataset_problem/blob/main/prepare_data.ipynb\" target=\"_parent\"><img src=\"https://colab.research.google.com/assets/colab-badge.svg\" alt=\"Open In Colab\"/></a>"
      ]
    },
    {
      "cell_type": "markdown",
      "source": [
        "## Load Dataset"
      ],
      "metadata": {
        "id": "uN2kDTVFVvEN"
      }
    },
    {
      "cell_type": "code",
      "execution_count": 1,
      "metadata": {
        "id": "MEezqkCOA2c6"
      },
      "outputs": [],
      "source": [
        "import pandas as pd\n",
        "from numpy import asarray\n",
        "from sklearn.datasets import make_classification\n",
        "import numpy as np\n",
        "\n",
        "from sklearn.preprocessing import MinMaxScaler\n",
        "\n",
        "from pandas import read_excel\n",
        "\n",
        "data = pd.read_excel('sample_data/Dry_Bean_Dataset.xlsx')"
      ]
    },
    {
      "cell_type": "code",
      "source": [
        "data.head()"
      ],
      "metadata": {
        "colab": {
          "base_uri": "https://localhost:8080/",
          "height": 0
        },
        "id": "VnAqxGqTU8FK",
        "outputId": "c319e0a6-bc4b-458d-8b13-828b2e52f768"
      },
      "execution_count": 2,
      "outputs": [
        {
          "output_type": "execute_result",
          "data": {
            "text/plain": [
              "    Area  Perimeter  MajorAxisLength  MinorAxisLength  AspectRation  \\\n",
              "0  28395    610.291       208.178117       173.888747      1.197191   \n",
              "1  28734    638.018       200.524796       182.734419      1.097356   \n",
              "2  29380    624.110       212.826130       175.931143      1.209713   \n",
              "3  30008    645.884       210.557999       182.516516      1.153638   \n",
              "4  30140    620.134       201.847882       190.279279      1.060798   \n",
              "\n",
              "   Eccentricity  ConvexArea  EquivDiameter    Extent  Solidity  roundness  \\\n",
              "0      0.549812       28715     190.141097  0.763923  0.988856   0.958027   \n",
              "1      0.411785       29172     191.272750  0.783968  0.984986   0.887034   \n",
              "2      0.562727       29690     193.410904  0.778113  0.989559   0.947849   \n",
              "3      0.498616       30724     195.467062  0.782681  0.976696   0.903936   \n",
              "4      0.333680       30417     195.896503  0.773098  0.990893   0.984877   \n",
              "\n",
              "   Compactness  ShapeFactor1  ShapeFactor2  ShapeFactor3  ShapeFactor4  Class  \n",
              "0     0.913358      0.007332      0.003147      0.834222      0.998724  SEKER  \n",
              "1     0.953861      0.006979      0.003564      0.909851      0.998430  SEKER  \n",
              "2     0.908774      0.007244      0.003048      0.825871      0.999066  SEKER  \n",
              "3     0.928329      0.007017      0.003215      0.861794      0.994199  SEKER  \n",
              "4     0.970516      0.006697      0.003665      0.941900      0.999166  SEKER  "
            ],
            "text/html": [
              "\n",
              "  <div id=\"df-f0d8f645-8126-48c7-8d7e-70fc8519c071\">\n",
              "    <div class=\"colab-df-container\">\n",
              "      <div>\n",
              "<style scoped>\n",
              "    .dataframe tbody tr th:only-of-type {\n",
              "        vertical-align: middle;\n",
              "    }\n",
              "\n",
              "    .dataframe tbody tr th {\n",
              "        vertical-align: top;\n",
              "    }\n",
              "\n",
              "    .dataframe thead th {\n",
              "        text-align: right;\n",
              "    }\n",
              "</style>\n",
              "<table border=\"1\" class=\"dataframe\">\n",
              "  <thead>\n",
              "    <tr style=\"text-align: right;\">\n",
              "      <th></th>\n",
              "      <th>Area</th>\n",
              "      <th>Perimeter</th>\n",
              "      <th>MajorAxisLength</th>\n",
              "      <th>MinorAxisLength</th>\n",
              "      <th>AspectRation</th>\n",
              "      <th>Eccentricity</th>\n",
              "      <th>ConvexArea</th>\n",
              "      <th>EquivDiameter</th>\n",
              "      <th>Extent</th>\n",
              "      <th>Solidity</th>\n",
              "      <th>roundness</th>\n",
              "      <th>Compactness</th>\n",
              "      <th>ShapeFactor1</th>\n",
              "      <th>ShapeFactor2</th>\n",
              "      <th>ShapeFactor3</th>\n",
              "      <th>ShapeFactor4</th>\n",
              "      <th>Class</th>\n",
              "    </tr>\n",
              "  </thead>\n",
              "  <tbody>\n",
              "    <tr>\n",
              "      <th>0</th>\n",
              "      <td>28395</td>\n",
              "      <td>610.291</td>\n",
              "      <td>208.178117</td>\n",
              "      <td>173.888747</td>\n",
              "      <td>1.197191</td>\n",
              "      <td>0.549812</td>\n",
              "      <td>28715</td>\n",
              "      <td>190.141097</td>\n",
              "      <td>0.763923</td>\n",
              "      <td>0.988856</td>\n",
              "      <td>0.958027</td>\n",
              "      <td>0.913358</td>\n",
              "      <td>0.007332</td>\n",
              "      <td>0.003147</td>\n",
              "      <td>0.834222</td>\n",
              "      <td>0.998724</td>\n",
              "      <td>SEKER</td>\n",
              "    </tr>\n",
              "    <tr>\n",
              "      <th>1</th>\n",
              "      <td>28734</td>\n",
              "      <td>638.018</td>\n",
              "      <td>200.524796</td>\n",
              "      <td>182.734419</td>\n",
              "      <td>1.097356</td>\n",
              "      <td>0.411785</td>\n",
              "      <td>29172</td>\n",
              "      <td>191.272750</td>\n",
              "      <td>0.783968</td>\n",
              "      <td>0.984986</td>\n",
              "      <td>0.887034</td>\n",
              "      <td>0.953861</td>\n",
              "      <td>0.006979</td>\n",
              "      <td>0.003564</td>\n",
              "      <td>0.909851</td>\n",
              "      <td>0.998430</td>\n",
              "      <td>SEKER</td>\n",
              "    </tr>\n",
              "    <tr>\n",
              "      <th>2</th>\n",
              "      <td>29380</td>\n",
              "      <td>624.110</td>\n",
              "      <td>212.826130</td>\n",
              "      <td>175.931143</td>\n",
              "      <td>1.209713</td>\n",
              "      <td>0.562727</td>\n",
              "      <td>29690</td>\n",
              "      <td>193.410904</td>\n",
              "      <td>0.778113</td>\n",
              "      <td>0.989559</td>\n",
              "      <td>0.947849</td>\n",
              "      <td>0.908774</td>\n",
              "      <td>0.007244</td>\n",
              "      <td>0.003048</td>\n",
              "      <td>0.825871</td>\n",
              "      <td>0.999066</td>\n",
              "      <td>SEKER</td>\n",
              "    </tr>\n",
              "    <tr>\n",
              "      <th>3</th>\n",
              "      <td>30008</td>\n",
              "      <td>645.884</td>\n",
              "      <td>210.557999</td>\n",
              "      <td>182.516516</td>\n",
              "      <td>1.153638</td>\n",
              "      <td>0.498616</td>\n",
              "      <td>30724</td>\n",
              "      <td>195.467062</td>\n",
              "      <td>0.782681</td>\n",
              "      <td>0.976696</td>\n",
              "      <td>0.903936</td>\n",
              "      <td>0.928329</td>\n",
              "      <td>0.007017</td>\n",
              "      <td>0.003215</td>\n",
              "      <td>0.861794</td>\n",
              "      <td>0.994199</td>\n",
              "      <td>SEKER</td>\n",
              "    </tr>\n",
              "    <tr>\n",
              "      <th>4</th>\n",
              "      <td>30140</td>\n",
              "      <td>620.134</td>\n",
              "      <td>201.847882</td>\n",
              "      <td>190.279279</td>\n",
              "      <td>1.060798</td>\n",
              "      <td>0.333680</td>\n",
              "      <td>30417</td>\n",
              "      <td>195.896503</td>\n",
              "      <td>0.773098</td>\n",
              "      <td>0.990893</td>\n",
              "      <td>0.984877</td>\n",
              "      <td>0.970516</td>\n",
              "      <td>0.006697</td>\n",
              "      <td>0.003665</td>\n",
              "      <td>0.941900</td>\n",
              "      <td>0.999166</td>\n",
              "      <td>SEKER</td>\n",
              "    </tr>\n",
              "  </tbody>\n",
              "</table>\n",
              "</div>\n",
              "      <button class=\"colab-df-convert\" onclick=\"convertToInteractive('df-f0d8f645-8126-48c7-8d7e-70fc8519c071')\"\n",
              "              title=\"Convert this dataframe to an interactive table.\"\n",
              "              style=\"display:none;\">\n",
              "        \n",
              "  <svg xmlns=\"http://www.w3.org/2000/svg\" height=\"24px\"viewBox=\"0 0 24 24\"\n",
              "       width=\"24px\">\n",
              "    <path d=\"M0 0h24v24H0V0z\" fill=\"none\"/>\n",
              "    <path d=\"M18.56 5.44l.94 2.06.94-2.06 2.06-.94-2.06-.94-.94-2.06-.94 2.06-2.06.94zm-11 1L8.5 8.5l.94-2.06 2.06-.94-2.06-.94L8.5 2.5l-.94 2.06-2.06.94zm10 10l.94 2.06.94-2.06 2.06-.94-2.06-.94-.94-2.06-.94 2.06-2.06.94z\"/><path d=\"M17.41 7.96l-1.37-1.37c-.4-.4-.92-.59-1.43-.59-.52 0-1.04.2-1.43.59L10.3 9.45l-7.72 7.72c-.78.78-.78 2.05 0 2.83L4 21.41c.39.39.9.59 1.41.59.51 0 1.02-.2 1.41-.59l7.78-7.78 2.81-2.81c.8-.78.8-2.07 0-2.86zM5.41 20L4 18.59l7.72-7.72 1.47 1.35L5.41 20z\"/>\n",
              "  </svg>\n",
              "      </button>\n",
              "      \n",
              "  <style>\n",
              "    .colab-df-container {\n",
              "      display:flex;\n",
              "      flex-wrap:wrap;\n",
              "      gap: 12px;\n",
              "    }\n",
              "\n",
              "    .colab-df-convert {\n",
              "      background-color: #E8F0FE;\n",
              "      border: none;\n",
              "      border-radius: 50%;\n",
              "      cursor: pointer;\n",
              "      display: none;\n",
              "      fill: #1967D2;\n",
              "      height: 32px;\n",
              "      padding: 0 0 0 0;\n",
              "      width: 32px;\n",
              "    }\n",
              "\n",
              "    .colab-df-convert:hover {\n",
              "      background-color: #E2EBFA;\n",
              "      box-shadow: 0px 1px 2px rgba(60, 64, 67, 0.3), 0px 1px 3px 1px rgba(60, 64, 67, 0.15);\n",
              "      fill: #174EA6;\n",
              "    }\n",
              "\n",
              "    [theme=dark] .colab-df-convert {\n",
              "      background-color: #3B4455;\n",
              "      fill: #D2E3FC;\n",
              "    }\n",
              "\n",
              "    [theme=dark] .colab-df-convert:hover {\n",
              "      background-color: #434B5C;\n",
              "      box-shadow: 0px 1px 3px 1px rgba(0, 0, 0, 0.15);\n",
              "      filter: drop-shadow(0px 1px 2px rgba(0, 0, 0, 0.3));\n",
              "      fill: #FFFFFF;\n",
              "    }\n",
              "  </style>\n",
              "\n",
              "      <script>\n",
              "        const buttonEl =\n",
              "          document.querySelector('#df-f0d8f645-8126-48c7-8d7e-70fc8519c071 button.colab-df-convert');\n",
              "        buttonEl.style.display =\n",
              "          google.colab.kernel.accessAllowed ? 'block' : 'none';\n",
              "\n",
              "        async function convertToInteractive(key) {\n",
              "          const element = document.querySelector('#df-f0d8f645-8126-48c7-8d7e-70fc8519c071');\n",
              "          const dataTable =\n",
              "            await google.colab.kernel.invokeFunction('convertToInteractive',\n",
              "                                                     [key], {});\n",
              "          if (!dataTable) return;\n",
              "\n",
              "          const docLinkHtml = 'Like what you see? Visit the ' +\n",
              "            '<a target=\"_blank\" href=https://colab.research.google.com/notebooks/data_table.ipynb>data table notebook</a>'\n",
              "            + ' to learn more about interactive tables.';\n",
              "          element.innerHTML = '';\n",
              "          dataTable['output_type'] = 'display_data';\n",
              "          await google.colab.output.renderOutput(dataTable, element);\n",
              "          const docLink = document.createElement('div');\n",
              "          docLink.innerHTML = docLinkHtml;\n",
              "          element.appendChild(docLink);\n",
              "        }\n",
              "      </script>\n",
              "    </div>\n",
              "  </div>\n",
              "  "
            ]
          },
          "metadata": {},
          "execution_count": 2
        }
      ]
    },
    {
      "cell_type": "code",
      "source": [
        "data.info()\n",
        "print(data.columns)\n",
        "print(data.index)\n",
        "print(data.values)"
      ],
      "metadata": {
        "colab": {
          "base_uri": "https://localhost:8080/"
        },
        "id": "X8SfxmjiVJvN",
        "outputId": "2f8c3a06-da3d-451a-cd98-9f0382565306"
      },
      "execution_count": 3,
      "outputs": [
        {
          "output_type": "stream",
          "name": "stdout",
          "text": [
            "<class 'pandas.core.frame.DataFrame'>\n",
            "RangeIndex: 13611 entries, 0 to 13610\n",
            "Data columns (total 17 columns):\n",
            " #   Column           Non-Null Count  Dtype  \n",
            "---  ------           --------------  -----  \n",
            " 0   Area             13611 non-null  int64  \n",
            " 1   Perimeter        13611 non-null  float64\n",
            " 2   MajorAxisLength  13611 non-null  float64\n",
            " 3   MinorAxisLength  13611 non-null  float64\n",
            " 4   AspectRation     13611 non-null  float64\n",
            " 5   Eccentricity     13611 non-null  float64\n",
            " 6   ConvexArea       13611 non-null  int64  \n",
            " 7   EquivDiameter    13611 non-null  float64\n",
            " 8   Extent           13611 non-null  float64\n",
            " 9   Solidity         13611 non-null  float64\n",
            " 10  roundness        13611 non-null  float64\n",
            " 11  Compactness      13611 non-null  float64\n",
            " 12  ShapeFactor1     13611 non-null  float64\n",
            " 13  ShapeFactor2     13611 non-null  float64\n",
            " 14  ShapeFactor3     13611 non-null  float64\n",
            " 15  ShapeFactor4     13611 non-null  float64\n",
            " 16  Class            13611 non-null  object \n",
            "dtypes: float64(14), int64(2), object(1)\n",
            "memory usage: 1.8+ MB\n",
            "Index(['Area', 'Perimeter', 'MajorAxisLength', 'MinorAxisLength',\n",
            "       'AspectRation', 'Eccentricity', 'ConvexArea', 'EquivDiameter', 'Extent',\n",
            "       'Solidity', 'roundness', 'Compactness', 'ShapeFactor1', 'ShapeFactor2',\n",
            "       'ShapeFactor3', 'ShapeFactor4', 'Class'],\n",
            "      dtype='object')\n",
            "RangeIndex(start=0, stop=13611, step=1)\n",
            "[[28395 610.2909999999998 208.17811670852728 ... 0.8342223882455564\n",
            "  0.9987238890131684 'SEKER']\n",
            " [28734 638.0179999999999 200.52479566364806 ... 0.9098505063979352\n",
            "  0.9984303314497069 'SEKER']\n",
            " [29380 624.11 212.82612986020646 ... 0.8258706165800325\n",
            "  0.9990661373632715 'SEKER']\n",
            " ...\n",
            " [42139 759.321 281.53992791425856 ... 0.6768841638893502\n",
            "  0.9967672643592382 'DERMASON']\n",
            " [42147 763.779 283.3826363799513 ... 0.6682366838424528\n",
            "  0.9952224197261494 'DERMASON']\n",
            " [42159 772.237 295.1427409885261 ... 0.6162205923408897\n",
            "  0.9981796233054678 'DERMASON']]\n"
          ]
        }
      ]
    },
    {
      "cell_type": "markdown",
      "source": [
        "## Data Cleaning Step"
      ],
      "metadata": {
        "id": "zdpqm7VxV38n"
      }
    },
    {
      "cell_type": "code",
      "source": [
        "# Data cleaning step\n",
        "# dropna drops missing values\n",
        "\n",
        "print(data.isnull().sum())\n",
        "data = data.dropna(axis=0)"
      ],
      "metadata": {
        "colab": {
          "base_uri": "https://localhost:8080/"
        },
        "id": "HpvGZujXVcLl",
        "outputId": "330524c8-376a-487c-d175-e0d112b1a2d6"
      },
      "execution_count": 4,
      "outputs": [
        {
          "output_type": "stream",
          "name": "stdout",
          "text": [
            "Area               0\n",
            "Perimeter          0\n",
            "MajorAxisLength    0\n",
            "MinorAxisLength    0\n",
            "AspectRation       0\n",
            "Eccentricity       0\n",
            "ConvexArea         0\n",
            "EquivDiameter      0\n",
            "Extent             0\n",
            "Solidity           0\n",
            "roundness          0\n",
            "Compactness        0\n",
            "ShapeFactor1       0\n",
            "ShapeFactor2       0\n",
            "ShapeFactor3       0\n",
            "ShapeFactor4       0\n",
            "Class              0\n",
            "dtype: int64\n"
          ]
        }
      ]
    },
    {
      "cell_type": "code",
      "source": [
        "data['Class'].value_counts()"
      ],
      "metadata": {
        "colab": {
          "base_uri": "https://localhost:8080/"
        },
        "id": "TfV4zEmlV7D3",
        "outputId": "920f5069-16ab-43b8-9924-fac344b187eb"
      },
      "execution_count": 5,
      "outputs": [
        {
          "output_type": "execute_result",
          "data": {
            "text/plain": [
              "DERMASON    3546\n",
              "SIRA        2636\n",
              "SEKER       2027\n",
              "HOROZ       1928\n",
              "CALI        1630\n",
              "BARBUNYA    1322\n",
              "BOMBAY       522\n",
              "Name: Class, dtype: int64"
            ]
          },
          "metadata": {},
          "execution_count": 5
        }
      ]
    },
    {
      "cell_type": "code",
      "source": [
        "data.describe()"
      ],
      "metadata": {
        "colab": {
          "base_uri": "https://localhost:8080/",
          "height": 0
        },
        "id": "Xq8pYzZeWeV3",
        "outputId": "04bbb7f5-6c29-45ae-e110-4e73adff1f56"
      },
      "execution_count": 6,
      "outputs": [
        {
          "output_type": "execute_result",
          "data": {
            "text/plain": [
              "                Area     Perimeter  MajorAxisLength  MinorAxisLength  \\\n",
              "count   13611.000000  13611.000000     13611.000000     13611.000000   \n",
              "mean    53048.284549    855.283459       320.141867       202.270714   \n",
              "std     29324.095717    214.289696        85.694186        44.970091   \n",
              "min     20420.000000    524.736000       183.601165       122.512653   \n",
              "25%     36328.000000    703.523500       253.303633       175.848170   \n",
              "50%     44652.000000    794.941000       296.883367       192.431733   \n",
              "75%     61332.000000    977.213000       376.495012       217.031741   \n",
              "max    254616.000000   1985.370000       738.860153       460.198497   \n",
              "\n",
              "       AspectRation  Eccentricity     ConvexArea  EquivDiameter        Extent  \\\n",
              "count  13611.000000  13611.000000   13611.000000   13611.000000  13611.000000   \n",
              "mean       1.583242      0.750895   53768.200206     253.064220      0.749733   \n",
              "std        0.246678      0.092002   29774.915817      59.177120      0.049086   \n",
              "min        1.024868      0.218951   20684.000000     161.243764      0.555315   \n",
              "25%        1.432307      0.715928   36714.500000     215.068003      0.718634   \n",
              "50%        1.551124      0.764441   45178.000000     238.438026      0.759859   \n",
              "75%        1.707109      0.810466   62294.000000     279.446467      0.786851   \n",
              "max        2.430306      0.911423  263261.000000     569.374358      0.866195   \n",
              "\n",
              "           Solidity     roundness   Compactness  ShapeFactor1  ShapeFactor2  \\\n",
              "count  13611.000000  13611.000000  13611.000000  13611.000000  13611.000000   \n",
              "mean       0.987143      0.873282      0.799864      0.006564      0.001716   \n",
              "std        0.004660      0.059520      0.061713      0.001128      0.000596   \n",
              "min        0.919246      0.489618      0.640577      0.002778      0.000564   \n",
              "25%        0.985670      0.832096      0.762469      0.005900      0.001154   \n",
              "50%        0.988283      0.883157      0.801277      0.006645      0.001694   \n",
              "75%        0.990013      0.916869      0.834270      0.007271      0.002170   \n",
              "max        0.994677      0.990685      0.987303      0.010451      0.003665   \n",
              "\n",
              "       ShapeFactor3  ShapeFactor4  \n",
              "count  13611.000000  13611.000000  \n",
              "mean       0.643590      0.995063  \n",
              "std        0.098996      0.004366  \n",
              "min        0.410339      0.947687  \n",
              "25%        0.581359      0.993703  \n",
              "50%        0.642044      0.996386  \n",
              "75%        0.696006      0.997883  \n",
              "max        0.974767      0.999733  "
            ],
            "text/html": [
              "\n",
              "  <div id=\"df-4c200f3e-dc6c-47cd-825f-3096cebb9f4c\">\n",
              "    <div class=\"colab-df-container\">\n",
              "      <div>\n",
              "<style scoped>\n",
              "    .dataframe tbody tr th:only-of-type {\n",
              "        vertical-align: middle;\n",
              "    }\n",
              "\n",
              "    .dataframe tbody tr th {\n",
              "        vertical-align: top;\n",
              "    }\n",
              "\n",
              "    .dataframe thead th {\n",
              "        text-align: right;\n",
              "    }\n",
              "</style>\n",
              "<table border=\"1\" class=\"dataframe\">\n",
              "  <thead>\n",
              "    <tr style=\"text-align: right;\">\n",
              "      <th></th>\n",
              "      <th>Area</th>\n",
              "      <th>Perimeter</th>\n",
              "      <th>MajorAxisLength</th>\n",
              "      <th>MinorAxisLength</th>\n",
              "      <th>AspectRation</th>\n",
              "      <th>Eccentricity</th>\n",
              "      <th>ConvexArea</th>\n",
              "      <th>EquivDiameter</th>\n",
              "      <th>Extent</th>\n",
              "      <th>Solidity</th>\n",
              "      <th>roundness</th>\n",
              "      <th>Compactness</th>\n",
              "      <th>ShapeFactor1</th>\n",
              "      <th>ShapeFactor2</th>\n",
              "      <th>ShapeFactor3</th>\n",
              "      <th>ShapeFactor4</th>\n",
              "    </tr>\n",
              "  </thead>\n",
              "  <tbody>\n",
              "    <tr>\n",
              "      <th>count</th>\n",
              "      <td>13611.000000</td>\n",
              "      <td>13611.000000</td>\n",
              "      <td>13611.000000</td>\n",
              "      <td>13611.000000</td>\n",
              "      <td>13611.000000</td>\n",
              "      <td>13611.000000</td>\n",
              "      <td>13611.000000</td>\n",
              "      <td>13611.000000</td>\n",
              "      <td>13611.000000</td>\n",
              "      <td>13611.000000</td>\n",
              "      <td>13611.000000</td>\n",
              "      <td>13611.000000</td>\n",
              "      <td>13611.000000</td>\n",
              "      <td>13611.000000</td>\n",
              "      <td>13611.000000</td>\n",
              "      <td>13611.000000</td>\n",
              "    </tr>\n",
              "    <tr>\n",
              "      <th>mean</th>\n",
              "      <td>53048.284549</td>\n",
              "      <td>855.283459</td>\n",
              "      <td>320.141867</td>\n",
              "      <td>202.270714</td>\n",
              "      <td>1.583242</td>\n",
              "      <td>0.750895</td>\n",
              "      <td>53768.200206</td>\n",
              "      <td>253.064220</td>\n",
              "      <td>0.749733</td>\n",
              "      <td>0.987143</td>\n",
              "      <td>0.873282</td>\n",
              "      <td>0.799864</td>\n",
              "      <td>0.006564</td>\n",
              "      <td>0.001716</td>\n",
              "      <td>0.643590</td>\n",
              "      <td>0.995063</td>\n",
              "    </tr>\n",
              "    <tr>\n",
              "      <th>std</th>\n",
              "      <td>29324.095717</td>\n",
              "      <td>214.289696</td>\n",
              "      <td>85.694186</td>\n",
              "      <td>44.970091</td>\n",
              "      <td>0.246678</td>\n",
              "      <td>0.092002</td>\n",
              "      <td>29774.915817</td>\n",
              "      <td>59.177120</td>\n",
              "      <td>0.049086</td>\n",
              "      <td>0.004660</td>\n",
              "      <td>0.059520</td>\n",
              "      <td>0.061713</td>\n",
              "      <td>0.001128</td>\n",
              "      <td>0.000596</td>\n",
              "      <td>0.098996</td>\n",
              "      <td>0.004366</td>\n",
              "    </tr>\n",
              "    <tr>\n",
              "      <th>min</th>\n",
              "      <td>20420.000000</td>\n",
              "      <td>524.736000</td>\n",
              "      <td>183.601165</td>\n",
              "      <td>122.512653</td>\n",
              "      <td>1.024868</td>\n",
              "      <td>0.218951</td>\n",
              "      <td>20684.000000</td>\n",
              "      <td>161.243764</td>\n",
              "      <td>0.555315</td>\n",
              "      <td>0.919246</td>\n",
              "      <td>0.489618</td>\n",
              "      <td>0.640577</td>\n",
              "      <td>0.002778</td>\n",
              "      <td>0.000564</td>\n",
              "      <td>0.410339</td>\n",
              "      <td>0.947687</td>\n",
              "    </tr>\n",
              "    <tr>\n",
              "      <th>25%</th>\n",
              "      <td>36328.000000</td>\n",
              "      <td>703.523500</td>\n",
              "      <td>253.303633</td>\n",
              "      <td>175.848170</td>\n",
              "      <td>1.432307</td>\n",
              "      <td>0.715928</td>\n",
              "      <td>36714.500000</td>\n",
              "      <td>215.068003</td>\n",
              "      <td>0.718634</td>\n",
              "      <td>0.985670</td>\n",
              "      <td>0.832096</td>\n",
              "      <td>0.762469</td>\n",
              "      <td>0.005900</td>\n",
              "      <td>0.001154</td>\n",
              "      <td>0.581359</td>\n",
              "      <td>0.993703</td>\n",
              "    </tr>\n",
              "    <tr>\n",
              "      <th>50%</th>\n",
              "      <td>44652.000000</td>\n",
              "      <td>794.941000</td>\n",
              "      <td>296.883367</td>\n",
              "      <td>192.431733</td>\n",
              "      <td>1.551124</td>\n",
              "      <td>0.764441</td>\n",
              "      <td>45178.000000</td>\n",
              "      <td>238.438026</td>\n",
              "      <td>0.759859</td>\n",
              "      <td>0.988283</td>\n",
              "      <td>0.883157</td>\n",
              "      <td>0.801277</td>\n",
              "      <td>0.006645</td>\n",
              "      <td>0.001694</td>\n",
              "      <td>0.642044</td>\n",
              "      <td>0.996386</td>\n",
              "    </tr>\n",
              "    <tr>\n",
              "      <th>75%</th>\n",
              "      <td>61332.000000</td>\n",
              "      <td>977.213000</td>\n",
              "      <td>376.495012</td>\n",
              "      <td>217.031741</td>\n",
              "      <td>1.707109</td>\n",
              "      <td>0.810466</td>\n",
              "      <td>62294.000000</td>\n",
              "      <td>279.446467</td>\n",
              "      <td>0.786851</td>\n",
              "      <td>0.990013</td>\n",
              "      <td>0.916869</td>\n",
              "      <td>0.834270</td>\n",
              "      <td>0.007271</td>\n",
              "      <td>0.002170</td>\n",
              "      <td>0.696006</td>\n",
              "      <td>0.997883</td>\n",
              "    </tr>\n",
              "    <tr>\n",
              "      <th>max</th>\n",
              "      <td>254616.000000</td>\n",
              "      <td>1985.370000</td>\n",
              "      <td>738.860153</td>\n",
              "      <td>460.198497</td>\n",
              "      <td>2.430306</td>\n",
              "      <td>0.911423</td>\n",
              "      <td>263261.000000</td>\n",
              "      <td>569.374358</td>\n",
              "      <td>0.866195</td>\n",
              "      <td>0.994677</td>\n",
              "      <td>0.990685</td>\n",
              "      <td>0.987303</td>\n",
              "      <td>0.010451</td>\n",
              "      <td>0.003665</td>\n",
              "      <td>0.974767</td>\n",
              "      <td>0.999733</td>\n",
              "    </tr>\n",
              "  </tbody>\n",
              "</table>\n",
              "</div>\n",
              "      <button class=\"colab-df-convert\" onclick=\"convertToInteractive('df-4c200f3e-dc6c-47cd-825f-3096cebb9f4c')\"\n",
              "              title=\"Convert this dataframe to an interactive table.\"\n",
              "              style=\"display:none;\">\n",
              "        \n",
              "  <svg xmlns=\"http://www.w3.org/2000/svg\" height=\"24px\"viewBox=\"0 0 24 24\"\n",
              "       width=\"24px\">\n",
              "    <path d=\"M0 0h24v24H0V0z\" fill=\"none\"/>\n",
              "    <path d=\"M18.56 5.44l.94 2.06.94-2.06 2.06-.94-2.06-.94-.94-2.06-.94 2.06-2.06.94zm-11 1L8.5 8.5l.94-2.06 2.06-.94-2.06-.94L8.5 2.5l-.94 2.06-2.06.94zm10 10l.94 2.06.94-2.06 2.06-.94-2.06-.94-.94-2.06-.94 2.06-2.06.94z\"/><path d=\"M17.41 7.96l-1.37-1.37c-.4-.4-.92-.59-1.43-.59-.52 0-1.04.2-1.43.59L10.3 9.45l-7.72 7.72c-.78.78-.78 2.05 0 2.83L4 21.41c.39.39.9.59 1.41.59.51 0 1.02-.2 1.41-.59l7.78-7.78 2.81-2.81c.8-.78.8-2.07 0-2.86zM5.41 20L4 18.59l7.72-7.72 1.47 1.35L5.41 20z\"/>\n",
              "  </svg>\n",
              "      </button>\n",
              "      \n",
              "  <style>\n",
              "    .colab-df-container {\n",
              "      display:flex;\n",
              "      flex-wrap:wrap;\n",
              "      gap: 12px;\n",
              "    }\n",
              "\n",
              "    .colab-df-convert {\n",
              "      background-color: #E8F0FE;\n",
              "      border: none;\n",
              "      border-radius: 50%;\n",
              "      cursor: pointer;\n",
              "      display: none;\n",
              "      fill: #1967D2;\n",
              "      height: 32px;\n",
              "      padding: 0 0 0 0;\n",
              "      width: 32px;\n",
              "    }\n",
              "\n",
              "    .colab-df-convert:hover {\n",
              "      background-color: #E2EBFA;\n",
              "      box-shadow: 0px 1px 2px rgba(60, 64, 67, 0.3), 0px 1px 3px 1px rgba(60, 64, 67, 0.15);\n",
              "      fill: #174EA6;\n",
              "    }\n",
              "\n",
              "    [theme=dark] .colab-df-convert {\n",
              "      background-color: #3B4455;\n",
              "      fill: #D2E3FC;\n",
              "    }\n",
              "\n",
              "    [theme=dark] .colab-df-convert:hover {\n",
              "      background-color: #434B5C;\n",
              "      box-shadow: 0px 1px 3px 1px rgba(0, 0, 0, 0.15);\n",
              "      filter: drop-shadow(0px 1px 2px rgba(0, 0, 0, 0.3));\n",
              "      fill: #FFFFFF;\n",
              "    }\n",
              "  </style>\n",
              "\n",
              "      <script>\n",
              "        const buttonEl =\n",
              "          document.querySelector('#df-4c200f3e-dc6c-47cd-825f-3096cebb9f4c button.colab-df-convert');\n",
              "        buttonEl.style.display =\n",
              "          google.colab.kernel.accessAllowed ? 'block' : 'none';\n",
              "\n",
              "        async function convertToInteractive(key) {\n",
              "          const element = document.querySelector('#df-4c200f3e-dc6c-47cd-825f-3096cebb9f4c');\n",
              "          const dataTable =\n",
              "            await google.colab.kernel.invokeFunction('convertToInteractive',\n",
              "                                                     [key], {});\n",
              "          if (!dataTable) return;\n",
              "\n",
              "          const docLinkHtml = 'Like what you see? Visit the ' +\n",
              "            '<a target=\"_blank\" href=https://colab.research.google.com/notebooks/data_table.ipynb>data table notebook</a>'\n",
              "            + ' to learn more about interactive tables.';\n",
              "          element.innerHTML = '';\n",
              "          dataTable['output_type'] = 'display_data';\n",
              "          await google.colab.output.renderOutput(dataTable, element);\n",
              "          const docLink = document.createElement('div');\n",
              "          docLink.innerHTML = docLinkHtml;\n",
              "          element.appendChild(docLink);\n",
              "        }\n",
              "      </script>\n",
              "    </div>\n",
              "  </div>\n",
              "  "
            ]
          },
          "metadata": {},
          "execution_count": 6
        }
      ]
    },
    {
      "cell_type": "markdown",
      "source": [
        "## Data Exploration"
      ],
      "metadata": {
        "id": "A1HreAbrWs34"
      }
    },
    {
      "cell_type": "code",
      "source": [
        "data.boxplot()\n",
        "data.hist()"
      ],
      "metadata": {
        "colab": {
          "base_uri": "https://localhost:8080/",
          "height": 0
        },
        "id": "botMk4TmWvP6",
        "outputId": "3c00da71-cb40-4f50-cb3a-761c62b679d8"
      },
      "execution_count": 7,
      "outputs": [
        {
          "output_type": "execute_result",
          "data": {
            "text/plain": [
              "array([[<Axes: title={'center': 'Area'}>,\n",
              "        <Axes: title={'center': 'Perimeter'}>,\n",
              "        <Axes: title={'center': 'MajorAxisLength'}>,\n",
              "        <Axes: title={'center': 'MinorAxisLength'}>],\n",
              "       [<Axes: title={'center': 'AspectRation'}>,\n",
              "        <Axes: title={'center': 'Eccentricity'}>,\n",
              "        <Axes: title={'center': 'ConvexArea'}>,\n",
              "        <Axes: title={'center': 'EquivDiameter'}>],\n",
              "       [<Axes: title={'center': 'Extent'}>,\n",
              "        <Axes: title={'center': 'Solidity'}>,\n",
              "        <Axes: title={'center': 'roundness'}>,\n",
              "        <Axes: title={'center': 'Compactness'}>],\n",
              "       [<Axes: title={'center': 'ShapeFactor1'}>,\n",
              "        <Axes: title={'center': 'ShapeFactor2'}>,\n",
              "        <Axes: title={'center': 'ShapeFactor3'}>,\n",
              "        <Axes: title={'center': 'ShapeFactor4'}>]], dtype=object)"
            ]
          },
          "metadata": {},
          "execution_count": 7
        },
        {
          "output_type": "display_data",
          "data": {
            "text/plain": [
              "<Figure size 640x480 with 1 Axes>"
            ],
            "image/png": "[encoded data removed]"
          },
          "metadata": {}
        },
        {
          "output_type": "display_data",
          "data": {
            "text/plain": [
              "<Figure size 640x480 with 16 Axes>"
            ],
            "image/png": "[encoded data removed]"
          },
          "metadata": {}
        }
      ]
    },
    {
      "cell_type": "code",
      "source": [
        "import seaborn as sns\n",
        "\n",
        "print(data.corr())\n",
        "correlationMatrix=data.corr(method='pearson')\n",
        "ax = sns.heatmap(\n",
        "    correlationMatrix,\n",
        "    vmin=-1, vmax=1, center=0,\n",
        "    cmap=sns.diverging_palette(0, 250, n=50),\n",
        "    square=True\n",
        ")\n",
        "ax.set_xticklabels(\n",
        "    ax.get_xticklabels(),\n",
        "    rotation=50,\n",
        "    horizontalalignment='right'\n",
        ");"
      ],
      "metadata": {
        "colab": {
          "base_uri": "https://localhost:8080/",
          "height": 0
        },
        "id": "prfxVQ5tXBYt",
        "outputId": "32825644-9f37-4be4-eb2a-d6be436d8267"
      },
      "execution_count": 8,
      "outputs": [
        {
          "output_type": "stream",
          "name": "stderr",
          "text": [
            "<ipython-input-8-53335c44a916>:3: FutureWarning: The default value of numeric_only in DataFrame.corr is deprecated. In a future version, it will default to False. Select only valid columns or specify the value of numeric_only to silence this warning.\n",
            "  print(data.corr())\n",
            "<ipython-input-8-53335c44a916>:4: FutureWarning: The default value of numeric_only in DataFrame.corr is deprecated. In a future version, it will default to False. Select only valid columns or specify the value of numeric_only to silence this warning.\n",
            "  correlationMatrix=data.corr(method='pearson')\n"
          ]
        },
        {
          "output_type": "stream",
          "name": "stdout",
          "text": [
            "                     Area  Perimeter  MajorAxisLength  MinorAxisLength  \\\n",
            "Area             1.000000   0.966722         0.931834         0.951602   \n",
            "Perimeter        0.966722   1.000000         0.977338         0.913179   \n",
            "MajorAxisLength  0.931834   0.977338         1.000000         0.826052   \n",
            "MinorAxisLength  0.951602   0.913179         0.826052         1.000000   \n",
            "AspectRation     0.241735   0.385276         0.550335        -0.009161   \n",
            "Eccentricity     0.267481   0.391066         0.541972         0.019574   \n",
            "ConvexArea       0.999939   0.967689         0.932607         0.951339   \n",
            "EquivDiameter    0.984968   0.991380         0.961733         0.948539   \n",
            "Extent           0.054345  -0.021160        -0.078062         0.145957   \n",
            "Solidity        -0.196585  -0.303970        -0.284302        -0.155831   \n",
            "roundness       -0.357530  -0.547647        -0.596358        -0.210344   \n",
            "Compactness     -0.268067  -0.406857        -0.568377        -0.015066   \n",
            "ShapeFactor1    -0.847958  -0.864623        -0.773609        -0.947204   \n",
            "ShapeFactor2    -0.639291  -0.767592        -0.859238        -0.471347   \n",
            "ShapeFactor3    -0.272145  -0.408435        -0.568185        -0.019326   \n",
            "ShapeFactor4    -0.355721  -0.429310        -0.482527        -0.263749   \n",
            "\n",
            "                 AspectRation  Eccentricity  ConvexArea  EquivDiameter  \\\n",
            "Area                 0.241735      0.267481    0.999939       0.984968   \n",
            "Perimeter            0.385276      0.391066    0.967689       0.991380   \n",
            "MajorAxisLength      0.550335      0.541972    0.932607       0.961733   \n",
            "MinorAxisLength     -0.009161      0.019574    0.951339       0.948539   \n",
            "AspectRation         1.000000      0.924293    0.243301       0.303647   \n",
            "Eccentricity         0.924293      1.000000    0.269255       0.318667   \n",
            "ConvexArea           0.243301      0.269255    1.000000       0.985226   \n",
            "EquivDiameter        0.303647      0.318667    0.985226       1.000000   \n",
            "Extent              -0.370184     -0.319362    0.052564       0.028383   \n",
            "Solidity            -0.267754     -0.297592   -0.206191      -0.231648   \n",
            "roundness           -0.766979     -0.722272   -0.362083      -0.435945   \n",
            "Compactness         -0.987687     -0.970313   -0.269922      -0.327650   \n",
            "ShapeFactor1         0.024593      0.019920   -0.847950      -0.892741   \n",
            "ShapeFactor2        -0.837841     -0.860141   -0.640862      -0.713069   \n",
            "ShapeFactor3        -0.978592     -0.981058   -0.274024      -0.330389   \n",
            "ShapeFactor4        -0.449264     -0.449354   -0.362049      -0.392512   \n",
            "\n",
            "                   Extent  Solidity  roundness  Compactness  ShapeFactor1  \\\n",
            "Area             0.054345 -0.196585  -0.357530    -0.268067     -0.847958   \n",
            "Perimeter       -0.021160 -0.303970  -0.547647    -0.406857     -0.864623   \n",
            "MajorAxisLength -0.078062 -0.284302  -0.596358    -0.568377     -0.773609   \n",
            "MinorAxisLength  0.145957 -0.155831  -0.210344    -0.015066     -0.947204   \n",
            "AspectRation    -0.370184 -0.267754  -0.766979    -0.987687      0.024593   \n",
            "Eccentricity    -0.319362 -0.297592  -0.722272    -0.970313      0.019920   \n",
            "ConvexArea       0.052564 -0.206191  -0.362083    -0.269922     -0.847950   \n",
            "EquivDiameter    0.028383 -0.231648  -0.435945    -0.327650     -0.892741   \n",
            "Extent           1.000000  0.191389   0.344411     0.354212     -0.141616   \n",
            "Solidity         0.191389  1.000000   0.607150     0.303766      0.153388   \n",
            "roundness        0.344411  0.607150   1.000000     0.768086      0.230273   \n",
            "Compactness      0.354212  0.303766   0.768086     1.000000     -0.009394   \n",
            "ShapeFactor1    -0.141616  0.153388   0.230273    -0.009394      1.000000   \n",
            "ShapeFactor2     0.237956  0.343559   0.782824     0.868939      0.469197   \n",
            "ShapeFactor3     0.347624  0.307662   0.763126     0.998686     -0.008320   \n",
            "ShapeFactor4     0.148502  0.702163   0.472149     0.484436      0.248619   \n",
            "\n",
            "                 ShapeFactor2  ShapeFactor3  ShapeFactor4  \n",
            "Area                -0.639291     -0.272145     -0.355721  \n",
            "Perimeter           -0.767592     -0.408435     -0.429310  \n",
            "MajorAxisLength     -0.859238     -0.568185     -0.482527  \n",
            "MinorAxisLength     -0.471347     -0.019326     -0.263749  \n",
            "AspectRation        -0.837841     -0.978592     -0.449264  \n",
            "Eccentricity        -0.860141     -0.981058     -0.449354  \n",
            "ConvexArea          -0.640862     -0.274024     -0.362049  \n",
            "EquivDiameter       -0.713069     -0.330389     -0.392512  \n",
            "Extent               0.237956      0.347624      0.148502  \n",
            "Solidity             0.343559      0.307662      0.702163  \n",
            "roundness            0.782824      0.763126      0.472149  \n",
            "Compactness          0.868939      0.998686      0.484436  \n",
            "ShapeFactor1         0.469197     -0.008320      0.248619  \n",
            "ShapeFactor2         1.000000      0.872971      0.529932  \n",
            "ShapeFactor3         0.872971      1.000000      0.484274  \n",
            "ShapeFactor4         0.529932      0.484274      1.000000  \n"
          ]
        },
        {
          "output_type": "display_data",
          "data": {
            "text/plain": [
              "<Figure size 640x480 with 2 Axes>"
            ],
            "image/png": "[encoded data removed]"
          },
          "metadata": {}
        }
      ]
    },
    {
      "cell_type": "markdown",
      "source": [
        "## Feature Selection"
      ],
      "metadata": {
        "id": "yEfUSQGhYA8B"
      }
    },
    {
      "cell_type": "code",
      "source": [
        "# Create separate dataframe for independent variables\n",
        "\n",
        "independent_variables = ['Area', 'Perimeter', 'MajorAxisLength', 'MinorAxisLength', 'AspectRation', \n",
        "                         'Eccentricity', 'ConvexArea', 'EquivDiameter', 'Extent', 'Solidity', \n",
        "                         'roundness', 'Compactness', 'ShapeFactor1', 'ShapeFactor2', 'ShapeFactor3', 'ShapeFactor4']\n",
        "X = data[independent_variables]\n",
        "\n",
        "print(type(X))\n",
        "print(X)\n",
        "\n",
        "# Creating another for the target variable\n",
        "target_variable = 'Class'\n",
        "y = data[target_variable]\n",
        "\n",
        "print(type(y))\n",
        "print(y)"
      ],
      "metadata": {
        "colab": {
          "base_uri": "https://localhost:8080/"
        },
        "id": "CduJb0EXYDmW",
        "outputId": "55c99de7-41ad-42b2-b3bf-70867efe574e"
      },
      "execution_count": 9,
      "outputs": [
        {
          "output_type": "stream",
          "name": "stdout",
          "text": [
            "<class 'pandas.core.frame.DataFrame'>\n",
            "        Area  Perimeter  MajorAxisLength  MinorAxisLength  AspectRation  \\\n",
            "0      28395    610.291       208.178117       173.888747      1.197191   \n",
            "1      28734    638.018       200.524796       182.734419      1.097356   \n",
            "2      29380    624.110       212.826130       175.931143      1.209713   \n",
            "3      30008    645.884       210.557999       182.516516      1.153638   \n",
            "4      30140    620.134       201.847882       190.279279      1.060798   \n",
            "...      ...        ...              ...              ...           ...   \n",
            "13606  42097    759.696       288.721612       185.944705      1.552728   \n",
            "13607  42101    757.499       281.576392       190.713136      1.476439   \n",
            "13608  42139    759.321       281.539928       191.187979      1.472582   \n",
            "13609  42147    763.779       283.382636       190.275731      1.489326   \n",
            "13610  42159    772.237       295.142741       182.204716      1.619841   \n",
            "\n",
            "       Eccentricity  ConvexArea  EquivDiameter    Extent  Solidity  roundness  \\\n",
            "0          0.549812       28715     190.141097  0.763923  0.988856   0.958027   \n",
            "1          0.411785       29172     191.272750  0.783968  0.984986   0.887034   \n",
            "2          0.562727       29690     193.410904  0.778113  0.989559   0.947849   \n",
            "3          0.498616       30724     195.467062  0.782681  0.976696   0.903936   \n",
            "4          0.333680       30417     195.896503  0.773098  0.990893   0.984877   \n",
            "...             ...         ...            ...       ...       ...        ...   \n",
            "13606      0.765002       42508     231.515799  0.714574  0.990331   0.916603   \n",
            "13607      0.735702       42494     231.526798  0.799943  0.990752   0.922015   \n",
            "13608      0.734065       42569     231.631261  0.729932  0.989899   0.918424   \n",
            "13609      0.741055       42667     231.653248  0.705389  0.987813   0.907906   \n",
            "13610      0.786693       42600     231.686223  0.788962  0.989648   0.888380   \n",
            "\n",
            "       Compactness  ShapeFactor1  ShapeFactor2  ShapeFactor3  ShapeFactor4  \n",
            "0         0.913358      0.007332      0.003147      0.834222      0.998724  \n",
            "1         0.953861      0.006979      0.003564      0.909851      0.998430  \n",
            "2         0.908774      0.007244      0.003048      0.825871      0.999066  \n",
            "3         0.928329      0.007017      0.003215      0.861794      0.994199  \n",
            "4         0.970516      0.006697      0.003665      0.941900      0.999166  \n",
            "...            ...           ...           ...           ...           ...  \n",
            "13606     0.801865      0.006858      0.001749      0.642988      0.998385  \n",
            "13607     0.822252      0.006688      0.001886      0.676099      0.998219  \n",
            "13608     0.822730      0.006681      0.001888      0.676884      0.996767  \n",
            "13609     0.817457      0.006724      0.001852      0.668237      0.995222  \n",
            "13610     0.784997      0.007001      0.001640      0.616221      0.998180  \n",
            "\n",
            "[13611 rows x 16 columns]\n",
            "<class 'pandas.core.series.Series'>\n",
            "0           SEKER\n",
            "1           SEKER\n",
            "2           SEKER\n",
            "3           SEKER\n",
            "4           SEKER\n",
            "           ...   \n",
            "13606    DERMASON\n",
            "13607    DERMASON\n",
            "13608    DERMASON\n",
            "13609    DERMASON\n",
            "13610    DERMASON\n",
            "Name: Class, Length: 13611, dtype: object\n"
          ]
        }
      ]
    },
    {
      "cell_type": "code",
      "source": [
        "from sklearn import preprocessing\n",
        "from sklearn.preprocessing import OrdinalEncoder\n",
        "import pickle\n",
        "\n",
        "independent_variables = ['Area', 'Perimeter', 'MajorAxisLength', 'MinorAxisLength', 'AspectRation', \n",
        "                         'Eccentricity', 'ConvexArea', 'EquivDiameter', 'Extent', 'Solidity', \n",
        "                         'roundness', 'Compactness', 'ShapeFactor1', 'ShapeFactor2', 'ShapeFactor3', 'ShapeFactor4']\n",
        "X = data[independent_variables]\n",
        "\n",
        "independent_variables_ordinal=['Class']\n",
        "Class_categories=['BARBUNYA', 'BOMBAY', 'CALI', 'DERMASON', 'HOROZ', 'SEKER', 'SIRA']\n",
        "\n",
        "X_ordinal = data[independent_variables_ordinal]\n",
        "y = data[target_variable]\n",
        "\n",
        "encOrdinalFeatures = preprocessing.OrdinalEncoder(categories=[Class_categories])\n",
        "encOrdinalFeatures.fit(X_ordinal)\n",
        "ordinalvalues=encOrdinalFeatures.transform(X_ordinal)\n",
        "pickle.dump(encOrdinalFeatures,open(\"encOrdinalFeatures.p\", \"wb\"))\n",
        "\n",
        "\n",
        "encOrdinalFeatures.categories_\n",
        "\n",
        "# Save encoding of categorical variables\n",
        "pickle.dump(encOrdinalFeatures,open(\"encOrdinalFeatures.p\",\"wb\"))"
      ],
      "metadata": {
        "id": "ooFqdHp3bNYq"
      },
      "execution_count": 10,
      "outputs": []
    },
    {
      "cell_type": "code",
      "source": [
        "# Additional step to encode the target variable\n",
        "from sklearn.preprocessing import LabelEncoder\n",
        "\n",
        "labelEncoder = LabelEncoder()\n",
        "labelEncoder.fit(y)\n",
        "labelEncoded_y = labelEncoder.transform(y)\n",
        "\n",
        "print(labelEncoder.classes_)\n",
        "print(labelEncoder.transform(labelEncoder.classes_))\n",
        "\n",
        "y = labelEncoded_y\n",
        "\n",
        "# save encoding of target variable\n",
        "dict_labelEncoder = dict(zip(labelEncoder.transform(labelEncoder.classes_), labelEncoder.classes_))\n",
        "\n",
        "print(dict_labelEncoder)\n",
        "pickle.dump(dict_labelEncoder,open(\"dict_labelEncoder.p\", \"wb\"))"
      ],
      "metadata": {
        "colab": {
          "base_uri": "https://localhost:8080/"
        },
        "id": "--rZlSumdmrc",
        "outputId": "4c4ff3b9-fcf0-48d1-9598-d6c34d1318c1"
      },
      "execution_count": 11,
      "outputs": [
        {
          "output_type": "stream",
          "name": "stdout",
          "text": [
            "['BARBUNYA' 'BOMBAY' 'CALI' 'DERMASON' 'HOROZ' 'SEKER' 'SIRA']\n",
            "[0 1 2 3 4 5 6]\n",
            "{0: 'BARBUNYA', 1: 'BOMBAY', 2: 'CALI', 3: 'DERMASON', 4: 'HOROZ', 5: 'SEKER', 6: 'SIRA'}\n"
          ]
        }
      ]
    },
    {
      "cell_type": "code",
      "source": [
        "print(type(X))\n",
        "print(X)\n",
        "print(type(y))\n",
        "print(y)"
      ],
      "metadata": {
        "colab": {
          "base_uri": "https://localhost:8080/"
        },
        "id": "CkrFH8sWrT_d",
        "outputId": "1c73457d-0289-495b-cdab-bb3185746d60"
      },
      "execution_count": 12,
      "outputs": [
        {
          "output_type": "stream",
          "name": "stdout",
          "text": [
            "<class 'pandas.core.frame.DataFrame'>\n",
            "        Area  Perimeter  MajorAxisLength  MinorAxisLength  AspectRation  \\\n",
            "0      28395    610.291       208.178117       173.888747      1.197191   \n",
            "1      28734    638.018       200.524796       182.734419      1.097356   \n",
            "2      29380    624.110       212.826130       175.931143      1.209713   \n",
            "3      30008    645.884       210.557999       182.516516      1.153638   \n",
            "4      30140    620.134       201.847882       190.279279      1.060798   \n",
            "...      ...        ...              ...              ...           ...   \n",
            "13606  42097    759.696       288.721612       185.944705      1.552728   \n",
            "13607  42101    757.499       281.576392       190.713136      1.476439   \n",
            "13608  42139    759.321       281.539928       191.187979      1.472582   \n",
            "13609  42147    763.779       283.382636       190.275731      1.489326   \n",
            "13610  42159    772.237       295.142741       182.204716      1.619841   \n",
            "\n",
            "       Eccentricity  ConvexArea  EquivDiameter    Extent  Solidity  roundness  \\\n",
            "0          0.549812       28715     190.141097  0.763923  0.988856   0.958027   \n",
            "1          0.411785       29172     191.272750  0.783968  0.984986   0.887034   \n",
            "2          0.562727       29690     193.410904  0.778113  0.989559   0.947849   \n",
            "3          0.498616       30724     195.467062  0.782681  0.976696   0.903936   \n",
            "4          0.333680       30417     195.896503  0.773098  0.990893   0.984877   \n",
            "...             ...         ...            ...       ...       ...        ...   \n",
            "13606      0.765002       42508     231.515799  0.714574  0.990331   0.916603   \n",
            "13607      0.735702       42494     231.526798  0.799943  0.990752   0.922015   \n",
            "13608      0.734065       42569     231.631261  0.729932  0.989899   0.918424   \n",
            "13609      0.741055       42667     231.653248  0.705389  0.987813   0.907906   \n",
            "13610      0.786693       42600     231.686223  0.788962  0.989648   0.888380   \n",
            "\n",
            "       Compactness  ShapeFactor1  ShapeFactor2  ShapeFactor3  ShapeFactor4  \n",
            "0         0.913358      0.007332      0.003147      0.834222      0.998724  \n",
            "1         0.953861      0.006979      0.003564      0.909851      0.998430  \n",
            "2         0.908774      0.007244      0.003048      0.825871      0.999066  \n",
            "3         0.928329      0.007017      0.003215      0.861794      0.994199  \n",
            "4         0.970516      0.006697      0.003665      0.941900      0.999166  \n",
            "...            ...           ...           ...           ...           ...  \n",
            "13606     0.801865      0.006858      0.001749      0.642988      0.998385  \n",
            "13607     0.822252      0.006688      0.001886      0.676099      0.998219  \n",
            "13608     0.822730      0.006681      0.001888      0.676884      0.996767  \n",
            "13609     0.817457      0.006724      0.001852      0.668237      0.995222  \n",
            "13610     0.784997      0.007001      0.001640      0.616221      0.998180  \n",
            "\n",
            "[13611 rows x 16 columns]\n",
            "<class 'numpy.ndarray'>\n",
            "[5 5 5 ... 3 3 3]\n"
          ]
        }
      ]
    },
    {
      "cell_type": "code",
      "source": [
        "import tensorflow as tf\n",
        "from tensorflow import keras\n",
        "from keras.models import Sequential\n",
        "from keras.layers import Dense\n",
        "\n",
        "def getNormalized(X):\n",
        "  # fit the scaler on the training data\n",
        "  normalized = MinMaxScaler().fit(X)\n",
        "\n",
        "  # transform the training data\n",
        "  X_norm = normalized.transform(X)\n",
        "  X_train_norm = pd.DataFrame(X_norm, columns=X.columns.values)\n",
        "\n",
        "  return X_train_norm;"
      ],
      "metadata": {
        "id": "pc3tsPnisQXd"
      },
      "execution_count": 13,
      "outputs": []
    },
    {
      "cell_type": "code",
      "source": [
        "# Normalize the X features\n",
        "# we are rescaling the values into a range of [0, 1]\n",
        "\n",
        "X_train_norm = getNormalized(X);\n",
        "X_train_norm.describe()"
      ],
      "metadata": {
        "colab": {
          "base_uri": "https://localhost:8080/",
          "height": 364
        },
        "id": "8pwPQmXatC9f",
        "outputId": "bd779da4-683f-4bd1-ab75-c4d9e99b13b7"
      },
      "execution_count": 14,
      "outputs": [
        {
          "output_type": "execute_result",
          "data": {
            "text/plain": [
              "               Area     Perimeter  MajorAxisLength  MinorAxisLength  \\\n",
              "count  13611.000000  13611.000000     13611.000000     13611.000000   \n",
              "mean       0.139320      0.226304         0.245905         0.236190   \n",
              "std        0.125212      0.146710         0.154332         0.133171   \n",
              "min        0.000000      0.000000         0.000000         0.000000   \n",
              "25%        0.067926      0.122404         0.125531         0.157944   \n",
              "50%        0.103469      0.184992         0.204017         0.207054   \n",
              "75%        0.174691      0.309781         0.347394         0.279902   \n",
              "max        1.000000      1.000000         1.000000         1.000000   \n",
              "\n",
              "       AspectRation  Eccentricity    ConvexArea  EquivDiameter        Extent  \\\n",
              "count  13611.000000  13611.000000  13611.000000   13611.000000  13611.000000   \n",
              "mean       0.397295      0.768181      0.136386       0.224978      0.625380   \n",
              "std        0.175517      0.132860      0.122744       0.144996      0.157895   \n",
              "min        0.000000      0.000000      0.000000       0.000000      0.000000   \n",
              "25%        0.289902      0.717685      0.066084       0.131880      0.525344   \n",
              "50%        0.374443      0.787743      0.100974       0.189141      0.657953   \n",
              "75%        0.485429      0.854208      0.171533       0.289620      0.744779   \n",
              "max        1.000000      1.000000      1.000000       1.000000      1.000000   \n",
              "\n",
              "           Solidity     roundness   Compactness  ShapeFactor1  ShapeFactor2  \\\n",
              "count  13611.000000  13611.000000  13611.000000  13611.000000  13611.000000   \n",
              "mean       0.900112      0.765693      0.459403      0.493356      0.371445   \n",
              "std        0.061783      0.118786      0.177989      0.147006      0.192168   \n",
              "min        0.000000      0.000000      0.000000      0.000000      0.000000   \n",
              "25%        0.880592      0.683497      0.351551      0.406861      0.190064   \n",
              "50%        0.915228      0.785402      0.463478      0.503986      0.364216   \n",
              "75%        0.938164      0.852681      0.558634      0.585601      0.517962   \n",
              "max        1.000000      1.000000      1.000000      1.000000      1.000000   \n",
              "\n",
              "       ShapeFactor3  ShapeFactor4  \n",
              "count  13611.000000  13611.000000  \n",
              "mean       0.413253      0.910285  \n",
              "std        0.175392      0.083898  \n",
              "min        0.000000      0.000000  \n",
              "25%        0.302997      0.884146  \n",
              "50%        0.410514      0.935698  \n",
              "75%        0.506118      0.964454  \n",
              "max        1.000000      1.000000  "
            ],
            "text/html": [
              "\n",
              "  <div id=\"df-bbdf98f2-c5c0-490a-8b16-cae919c57a69\">\n",
              "    <div class=\"colab-df-container\">\n",
              "      <div>\n",
              "<style scoped>\n",
              "    .dataframe tbody tr th:only-of-type {\n",
              "        vertical-align: middle;\n",
              "    }\n",
              "\n",
              "    .dataframe tbody tr th {\n",
              "        vertical-align: top;\n",
              "    }\n",
              "\n",
              "    .dataframe thead th {\n",
              "        text-align: right;\n",
              "    }\n",
              "</style>\n",
              "<table border=\"1\" class=\"dataframe\">\n",
              "  <thead>\n",
              "    <tr style=\"text-align: right;\">\n",
              "      <th></th>\n",
              "      <th>Area</th>\n",
              "      <th>Perimeter</th>\n",
              "      <th>MajorAxisLength</th>\n",
              "      <th>MinorAxisLength</th>\n",
              "      <th>AspectRation</th>\n",
              "      <th>Eccentricity</th>\n",
              "      <th>ConvexArea</th>\n",
              "      <th>EquivDiameter</th>\n",
              "      <th>Extent</th>\n",
              "      <th>Solidity</th>\n",
              "      <th>roundness</th>\n",
              "      <th>Compactness</th>\n",
              "      <th>ShapeFactor1</th>\n",
              "      <th>ShapeFactor2</th>\n",
              "      <th>ShapeFactor3</th>\n",
              "      <th>ShapeFactor4</th>\n",
              "    </tr>\n",
              "  </thead>\n",
              "  <tbody>\n",
              "    <tr>\n",
              "      <th>count</th>\n",
              "      <td>13611.000000</td>\n",
              "      <td>13611.000000</td>\n",
              "      <td>13611.000000</td>\n",
              "      <td>13611.000000</td>\n",
              "      <td>13611.000000</td>\n",
              "      <td>13611.000000</td>\n",
              "      <td>13611.000000</td>\n",
              "      <td>13611.000000</td>\n",
              "      <td>13611.000000</td>\n",
              "      <td>13611.000000</td>\n",
              "      <td>13611.000000</td>\n",
              "      <td>13611.000000</td>\n",
              "      <td>13611.000000</td>\n",
              "      <td>13611.000000</td>\n",
              "      <td>13611.000000</td>\n",
              "      <td>13611.000000</td>\n",
              "    </tr>\n",
              "    <tr>\n",
              "      <th>mean</th>\n",
              "      <td>0.139320</td>\n",
              "      <td>0.226304</td>\n",
              "      <td>0.245905</td>\n",
              "      <td>0.236190</td>\n",
              "      <td>0.397295</td>\n",
              "      <td>0.768181</td>\n",
              "      <td>0.136386</td>\n",
              "      <td>0.224978</td>\n",
              "      <td>0.625380</td>\n",
              "      <td>0.900112</td>\n",
              "      <td>0.765693</td>\n",
              "      <td>0.459403</td>\n",
              "      <td>0.493356</td>\n",
              "      <td>0.371445</td>\n",
              "      <td>0.413253</td>\n",
              "      <td>0.910285</td>\n",
              "    </tr>\n",
              "    <tr>\n",
              "      <th>std</th>\n",
              "      <td>0.125212</td>\n",
              "      <td>0.146710</td>\n",
              "      <td>0.154332</td>\n",
              "      <td>0.133171</td>\n",
              "      <td>0.175517</td>\n",
              "      <td>0.132860</td>\n",
              "      <td>0.122744</td>\n",
              "      <td>0.144996</td>\n",
              "      <td>0.157895</td>\n",
              "      <td>0.061783</td>\n",
              "      <td>0.118786</td>\n",
              "      <td>0.177989</td>\n",
              "      <td>0.147006</td>\n",
              "      <td>0.192168</td>\n",
              "      <td>0.175392</td>\n",
              "      <td>0.083898</td>\n",
              "    </tr>\n",
              "    <tr>\n",
              "      <th>min</th>\n",
              "      <td>0.000000</td>\n",
              "      <td>0.000000</td>\n",
              "      <td>0.000000</td>\n",
              "      <td>0.000000</td>\n",
              "      <td>0.000000</td>\n",
              "      <td>0.000000</td>\n",
              "      <td>0.000000</td>\n",
              "      <td>0.000000</td>\n",
              "      <td>0.000000</td>\n",
              "      <td>0.000000</td>\n",
              "      <td>0.000000</td>\n",
              "      <td>0.000000</td>\n",
              "      <td>0.000000</td>\n",
              "      <td>0.000000</td>\n",
              "      <td>0.000000</td>\n",
              "      <td>0.000000</td>\n",
              "    </tr>\n",
              "    <tr>\n",
              "      <th>25%</th>\n",
              "      <td>0.067926</td>\n",
              "      <td>0.122404</td>\n",
              "      <td>0.125531</td>\n",
              "      <td>0.157944</td>\n",
              "      <td>0.289902</td>\n",
              "      <td>0.717685</td>\n",
              "      <td>0.066084</td>\n",
              "      <td>0.131880</td>\n",
              "      <td>0.525344</td>\n",
              "      <td>0.880592</td>\n",
              "      <td>0.683497</td>\n",
              "      <td>0.351551</td>\n",
              "      <td>0.406861</td>\n",
              "      <td>0.190064</td>\n",
              "      <td>0.302997</td>\n",
              "      <td>0.884146</td>\n",
              "    </tr>\n",
              "    <tr>\n",
              "      <th>50%</th>\n",
              "      <td>0.103469</td>\n",
              "      <td>0.184992</td>\n",
              "      <td>0.204017</td>\n",
              "      <td>0.207054</td>\n",
              "      <td>0.374443</td>\n",
              "      <td>0.787743</td>\n",
              "      <td>0.100974</td>\n",
              "      <td>0.189141</td>\n",
              "      <td>0.657953</td>\n",
              "      <td>0.915228</td>\n",
              "      <td>0.785402</td>\n",
              "      <td>0.463478</td>\n",
              "      <td>0.503986</td>\n",
              "      <td>0.364216</td>\n",
              "      <td>0.410514</td>\n",
              "      <td>0.935698</td>\n",
              "    </tr>\n",
              "    <tr>\n",
              "      <th>75%</th>\n",
              "      <td>0.174691</td>\n",
              "      <td>0.309781</td>\n",
              "      <td>0.347394</td>\n",
              "      <td>0.279902</td>\n",
              "      <td>0.485429</td>\n",
              "      <td>0.854208</td>\n",
              "      <td>0.171533</td>\n",
              "      <td>0.289620</td>\n",
              "      <td>0.744779</td>\n",
              "      <td>0.938164</td>\n",
              "      <td>0.852681</td>\n",
              "      <td>0.558634</td>\n",
              "      <td>0.585601</td>\n",
              "      <td>0.517962</td>\n",
              "      <td>0.506118</td>\n",
              "      <td>0.964454</td>\n",
              "    </tr>\n",
              "    <tr>\n",
              "      <th>max</th>\n",
              "      <td>1.000000</td>\n",
              "      <td>1.000000</td>\n",
              "      <td>1.000000</td>\n",
              "      <td>1.000000</td>\n",
              "      <td>1.000000</td>\n",
              "      <td>1.000000</td>\n",
              "      <td>1.000000</td>\n",
              "      <td>1.000000</td>\n",
              "      <td>1.000000</td>\n",
              "      <td>1.000000</td>\n",
              "      <td>1.000000</td>\n",
              "      <td>1.000000</td>\n",
              "      <td>1.000000</td>\n",
              "      <td>1.000000</td>\n",
              "      <td>1.000000</td>\n",
              "      <td>1.000000</td>\n",
              "    </tr>\n",
              "  </tbody>\n",
              "</table>\n",
              "</div>\n",
              "      <button class=\"colab-df-convert\" onclick=\"convertToInteractive('df-bbdf98f2-c5c0-490a-8b16-cae919c57a69')\"\n",
              "              title=\"Convert this dataframe to an interactive table.\"\n",
              "              style=\"display:none;\">\n",
              "        \n",
              "  <svg xmlns=\"http://www.w3.org/2000/svg\" height=\"24px\"viewBox=\"0 0 24 24\"\n",
              "       width=\"24px\">\n",
              "    <path d=\"M0 0h24v24H0V0z\" fill=\"none\"/>\n",
              "    <path d=\"M18.56 5.44l.94 2.06.94-2.06 2.06-.94-2.06-.94-.94-2.06-.94 2.06-2.06.94zm-11 1L8.5 8.5l.94-2.06 2.06-.94-2.06-.94L8.5 2.5l-.94 2.06-2.06.94zm10 10l.94 2.06.94-2.06 2.06-.94-2.06-.94-.94-2.06-.94 2.06-2.06.94z\"/><path d=\"M17.41 7.96l-1.37-1.37c-.4-.4-.92-.59-1.43-.59-.52 0-1.04.2-1.43.59L10.3 9.45l-7.72 7.72c-.78.78-.78 2.05 0 2.83L4 21.41c.39.39.9.59 1.41.59.51 0 1.02-.2 1.41-.59l7.78-7.78 2.81-2.81c.8-.78.8-2.07 0-2.86zM5.41 20L4 18.59l7.72-7.72 1.47 1.35L5.41 20z\"/>\n",
              "  </svg>\n",
              "      </button>\n",
              "      \n",
              "  <style>\n",
              "    .colab-df-container {\n",
              "      display:flex;\n",
              "      flex-wrap:wrap;\n",
              "      gap: 12px;\n",
              "    }\n",
              "\n",
              "    .colab-df-convert {\n",
              "      background-color: #E8F0FE;\n",
              "      border: none;\n",
              "      border-radius: 50%;\n",
              "      cursor: pointer;\n",
              "      display: none;\n",
              "      fill: #1967D2;\n",
              "      height: 32px;\n",
              "      padding: 0 0 0 0;\n",
              "      width: 32px;\n",
              "    }\n",
              "\n",
              "    .colab-df-convert:hover {\n",
              "      background-color: #E2EBFA;\n",
              "      box-shadow: 0px 1px 2px rgba(60, 64, 67, 0.3), 0px 1px 3px 1px rgba(60, 64, 67, 0.15);\n",
              "      fill: #174EA6;\n",
              "    }\n",
              "\n",
              "    [theme=dark] .colab-df-convert {\n",
              "      background-color: #3B4455;\n",
              "      fill: #D2E3FC;\n",
              "    }\n",
              "\n",
              "    [theme=dark] .colab-df-convert:hover {\n",
              "      background-color: #434B5C;\n",
              "      box-shadow: 0px 1px 3px 1px rgba(0, 0, 0, 0.15);\n",
              "      filter: drop-shadow(0px 1px 2px rgba(0, 0, 0, 0.3));\n",
              "      fill: #FFFFFF;\n",
              "    }\n",
              "  </style>\n",
              "\n",
              "      <script>\n",
              "        const buttonEl =\n",
              "          document.querySelector('#df-bbdf98f2-c5c0-490a-8b16-cae919c57a69 button.colab-df-convert');\n",
              "        buttonEl.style.display =\n",
              "          google.colab.kernel.accessAllowed ? 'block' : 'none';\n",
              "\n",
              "        async function convertToInteractive(key) {\n",
              "          const element = document.querySelector('#df-bbdf98f2-c5c0-490a-8b16-cae919c57a69');\n",
              "          const dataTable =\n",
              "            await google.colab.kernel.invokeFunction('convertToInteractive',\n",
              "                                                     [key], {});\n",
              "          if (!dataTable) return;\n",
              "\n",
              "          const docLinkHtml = 'Like what you see? Visit the ' +\n",
              "            '<a target=\"_blank\" href=https://colab.research.google.com/notebooks/data_table.ipynb>data table notebook</a>'\n",
              "            + ' to learn more about interactive tables.';\n",
              "          element.innerHTML = '';\n",
              "          dataTable['output_type'] = 'display_data';\n",
              "          await google.colab.output.renderOutput(dataTable, element);\n",
              "          const docLink = document.createElement('div');\n",
              "          docLink.innerHTML = docLinkHtml;\n",
              "          element.appendChild(docLink);\n",
              "        }\n",
              "      </script>\n",
              "    </div>\n",
              "  </div>\n",
              "  "
            ]
          },
          "metadata": {},
          "execution_count": 14
        }
      ]
    },
    {
      "cell_type": "code",
      "source": [
        "# convert to numpy array\n",
        "X_numpy=np.array(X_train_norm)\n",
        "y_numpy=np.array(y)\n",
        "\n",
        "print(type(X_numpy))\n",
        "print(type(y_numpy))"
      ],
      "metadata": {
        "colab": {
          "base_uri": "https://localhost:8080/"
        },
        "id": "g4Ytr_KW596r",
        "outputId": "d812cb71-43f2-42f0-9b34-cc0bfafecd0d"
      },
      "execution_count": 16,
      "outputs": [
        {
          "output_type": "stream",
          "name": "stdout",
          "text": [
            "<class 'numpy.ndarray'>\n",
            "<class 'numpy.ndarray'>\n"
          ]
        }
      ]
    },
    {
      "cell_type": "code",
      "source": [
        "# split the data \n",
        "from sklearn.model_selection import train_test_split\n",
        "\n",
        "X_train, X_test, y_train, y_test = train_test_split(X_numpy, y_numpy, test_size=0.2, random_state=42)\n",
        "X_train, X_val, y_train, y_val = train_test_split(X_train, y_train, test_size=0.5, random_state=42)\n"
      ],
      "metadata": {
        "id": "uTU4rJ536Os_"
      },
      "execution_count": 19,
      "outputs": []
    },
    {
      "cell_type": "code",
      "source": [
        "print(y_train)\n",
        "print(X_train)\n",
        "print(X_test)\n",
        "print(y_test)"
      ],
      "metadata": {
        "colab": {
          "base_uri": "https://localhost:8080/"
        },
        "id": "gWi3OZfYDngr",
        "outputId": "ae0e7880-63f1-4953-e6be-733aa08ad057"
      },
      "execution_count": 20,
      "outputs": [
        {
          "output_type": "stream",
          "name": "stdout",
          "text": [
            "[5 2 3 ... 0 0 6]\n",
            "[[0.07155972 0.12306985 0.10226295 ... 0.68125249 0.72440874 0.98045966]\n",
            " [0.20837674 0.34920315 0.42607996 ... 0.11896897 0.15741667 0.74766166]\n",
            " [0.04170865 0.10203994 0.0880039  ... 0.59302046 0.53313401 0.92350587]\n",
            " ...\n",
            " [0.10736306 0.19033379 0.20255869 ... 0.38422887 0.44553001 0.96636605]\n",
            " [0.25073016 0.39731445 0.3574386  ... 0.27565678 0.49594523 0.91543256]\n",
            " [0.09240124 0.16513788 0.16141718 ... 0.48304282 0.54391294 0.7574541 ]]\n",
            "[[0.09359255 0.14821646 0.13795034 ... 0.59313957 0.68368457 0.993279  ]\n",
            " [0.20421783 0.38614602 0.33636012 ... 0.25127714 0.39532366 0.74289604]\n",
            " [0.07445046 0.125959   0.11675482 ... 0.6143021  0.65665293 0.97121827]\n",
            " ...\n",
            " [0.03412526 0.06728585 0.0787161  ... 0.59820659 0.51342449 0.96583475]\n",
            " [0.23170336 0.35755501 0.38782395 ... 0.19738775 0.33153631 0.86503513]\n",
            " [0.08159832 0.14882031 0.17062906 ... 0.40921678 0.42396831 0.94564195]]\n",
            "[5 0 5 ... 3 2 6]\n"
          ]
        }
      ]
    },
    {
      "cell_type": "markdown",
      "source": [
        "## Model Comparison"
      ],
      "metadata": {
        "id": "VJLS-PI2D8Tv"
      }
    },
    {
      "cell_type": "code",
      "source": [
        "# train multiple classification models on the training set\n",
        "from sklearn.linear_model import LogisticRegression\n",
        "from sklearn.neighbors import KNeighborsClassifier\n",
        "from sklearn.tree import DecisionTreeClassifier\n",
        "from sklearn.ensemble import RandomForestClassifier\n",
        "from sklearn.svm import SVC\n",
        "from sklearn.naive_bayes import GaussianNB\n",
        "from sklearn.neural_network import MLPClassifier\n",
        "from sklearn.metrics import accuracy_score, classification_report\n",
        "\n",
        "models = [LogisticRegression(), KNeighborsClassifier(n_neighbors=5), DecisionTreeClassifier(), \n",
        "          RandomForestClassifier(n_estimators=100), SVC(), GaussianNB(), \n",
        "          MLPClassifier(hidden_layer_sizes=(10, 10, 10), max_iter=1000)]"
      ],
      "metadata": {
        "id": "dYxDrvJaD7T6"
      },
      "execution_count": 22,
      "outputs": []
    },
    {
      "cell_type": "code",
      "source": [
        "# evaluate the models on the training dataset\n",
        "for model in models:\n",
        "  model.fit(X_train, y_train)\n",
        "  y_pred = model.predict(X_test)\n",
        "  print(type(model).__name__)\n",
        "  print(\"Accuracy:\", accuracy_score(y_test, y_pred))\n",
        "  print(classification_report(y_test, y_pred))\n",
        "  print(\"======================================\")"
      ],
      "metadata": {
        "colab": {
          "base_uri": "https://localhost:8080/"
        },
        "id": "cEPj7-kcJh4H",
        "outputId": "9768c820-615e-41ed-cf05-d3133f2fa151"
      },
      "execution_count": 24,
      "outputs": [
        {
          "output_type": "stream",
          "name": "stderr",
          "text": [
            "/usr/local/lib/python3.10/dist-packages/sklearn/linear_model/_logistic.py:458: ConvergenceWarning: lbfgs failed to converge (status=1):\n",
            "STOP: TOTAL NO. of ITERATIONS REACHED LIMIT.\n",
            "\n",
            "Increase the number of iterations (max_iter) or scale the data as shown in:\n",
            "    https://scikit-learn.org/stable/modules/preprocessing.html\n",
            "Please also refer to the documentation for alternative solver options:\n",
            "    https://scikit-learn.org/stable/modules/linear_model.html#logistic-regression\n",
            "  n_iter_i = _check_optimize_result(\n"
          ]
        },
        {
          "output_type": "stream",
          "name": "stdout",
          "text": [
            "LogisticRegression\n",
            "Accuracy: 0.9173705471905986\n",
            "              precision    recall  f1-score   support\n",
            "\n",
            "           0       0.94      0.88      0.91       261\n",
            "           1       1.00      1.00      1.00       117\n",
            "           2       0.92      0.94      0.93       317\n",
            "           3       0.91      0.90      0.90       671\n",
            "           4       0.97      0.95      0.96       408\n",
            "           5       0.95      0.93      0.94       413\n",
            "           6       0.83      0.89      0.86       536\n",
            "\n",
            "    accuracy                           0.92      2723\n",
            "   macro avg       0.93      0.93      0.93      2723\n",
            "weighted avg       0.92      0.92      0.92      2723\n",
            "\n",
            "======================================\n",
            "KNeighborsClassifier\n",
            "Accuracy: 0.9188395152405435\n",
            "              precision    recall  f1-score   support\n",
            "\n",
            "           0       0.94      0.89      0.92       261\n",
            "           1       1.00      1.00      1.00       117\n",
            "           2       0.91      0.96      0.93       317\n",
            "           3       0.90      0.92      0.91       671\n",
            "           4       0.98      0.94      0.96       408\n",
            "           5       0.96      0.94      0.95       413\n",
            "           6       0.85      0.86      0.86       536\n",
            "\n",
            "    accuracy                           0.92      2723\n",
            "   macro avg       0.93      0.93      0.93      2723\n",
            "weighted avg       0.92      0.92      0.92      2723\n",
            "\n",
            "======================================\n",
            "DecisionTreeClassifier\n",
            "Accuracy: 0.8942343004039662\n",
            "              precision    recall  f1-score   support\n",
            "\n",
            "           0       0.89      0.88      0.89       261\n",
            "           1       0.99      0.99      0.99       117\n",
            "           2       0.90      0.91      0.91       317\n",
            "           3       0.87      0.89      0.88       671\n",
            "           4       0.94      0.93      0.94       408\n",
            "           5       0.95      0.92      0.93       413\n",
            "           6       0.82      0.83      0.83       536\n",
            "\n",
            "    accuracy                           0.89      2723\n",
            "   macro avg       0.91      0.91      0.91      2723\n",
            "weighted avg       0.89      0.89      0.89      2723\n",
            "\n",
            "======================================\n",
            "RandomForestClassifier\n",
            "Accuracy: 0.9232464193903782\n",
            "              precision    recall  f1-score   support\n",
            "\n",
            "           0       0.93      0.90      0.92       261\n",
            "           1       1.00      1.00      1.00       117\n",
            "           2       0.93      0.95      0.94       317\n",
            "           3       0.90      0.92      0.91       671\n",
            "           4       0.96      0.95      0.96       408\n",
            "           5       0.97      0.94      0.95       413\n",
            "           6       0.87      0.87      0.87       536\n",
            "\n",
            "    accuracy                           0.92      2723\n",
            "   macro avg       0.94      0.93      0.93      2723\n",
            "weighted avg       0.92      0.92      0.92      2723\n",
            "\n",
            "======================================\n",
            "SVC\n",
            "Accuracy: 0.9258171134777818\n",
            "              precision    recall  f1-score   support\n",
            "\n",
            "           0       0.96      0.88      0.92       261\n",
            "           1       1.00      1.00      1.00       117\n",
            "           2       0.92      0.96      0.94       317\n",
            "           3       0.91      0.91      0.91       671\n",
            "           4       0.98      0.96      0.97       408\n",
            "           5       0.97      0.94      0.95       413\n",
            "           6       0.85      0.90      0.87       536\n",
            "\n",
            "    accuracy                           0.93      2723\n",
            "   macro avg       0.94      0.94      0.94      2723\n",
            "weighted avg       0.93      0.93      0.93      2723\n",
            "\n",
            "======================================\n",
            "GaussianNB\n",
            "Accuracy: 0.9052515607785531\n",
            "              precision    recall  f1-score   support\n",
            "\n",
            "           0       0.86      0.80      0.83       261\n",
            "           1       1.00      1.00      1.00       117\n",
            "           2       0.87      0.91      0.89       317\n",
            "           3       0.93      0.87      0.90       671\n",
            "           4       0.96      0.97      0.97       408\n",
            "           5       0.96      0.95      0.95       413\n",
            "           6       0.83      0.90      0.86       536\n",
            "\n",
            "    accuracy                           0.91      2723\n",
            "   macro avg       0.91      0.91      0.91      2723\n",
            "weighted avg       0.91      0.91      0.91      2723\n",
            "\n",
            "======================================\n",
            "MLPClassifier\n",
            "Accuracy: 0.9184722732280572\n",
            "              precision    recall  f1-score   support\n",
            "\n",
            "           0       0.94      0.89      0.91       261\n",
            "           1       1.00      1.00      1.00       117\n",
            "           2       0.92      0.95      0.93       317\n",
            "           3       0.91      0.90      0.90       671\n",
            "           4       0.97      0.95      0.96       408\n",
            "           5       0.96      0.93      0.94       413\n",
            "           6       0.84      0.89      0.86       536\n",
            "\n",
            "    accuracy                           0.92      2723\n",
            "   macro avg       0.93      0.93      0.93      2723\n",
            "weighted avg       0.92      0.92      0.92      2723\n",
            "\n",
            "======================================\n"
          ]
        }
      ]
    },
    {
      "cell_type": "code",
      "source": [
        "# Grid Search\n",
        "from sklearn.svm import SVC\n",
        "from sklearn.model_selection import GridSearchCV\n",
        "from sklearn.preprocessing import StandardScaler\n",
        "\n",
        "# HyperParameter Tuning\n",
        "param_grid = {'C': [0.1, 1, 10, 100], 'kernel': ['linear', 'poly', 'rbf', 'sigmoid'], \n",
        "              'degree': [2, 3, 4], 'gamma': ['scale', 'auto']}\n",
        "\n",
        "svc = SVC()\n",
        "grid_search = GridSearchCV(svc, param_grid, cv=5)\n",
        "grid_search.fit(X_train, y_train)"
      ],
      "metadata": {
        "colab": {
          "base_uri": "https://localhost:8080/",
          "height": 117
        },
        "id": "uknZGKIOV6K0",
        "outputId": "8b2b4ab3-0244-4759-a99b-dbc77ff657de"
      },
      "execution_count": 28,
      "outputs": [
        {
          "output_type": "execute_result",
          "data": {
            "text/plain": [
              "GridSearchCV(cv=5, estimator=SVC(),\n",
              "             param_grid={'C': [0.1, 1, 10, 100], 'degree': [2, 3, 4],\n",
              "                         'gamma': ['scale', 'auto'],\n",
              "                         'kernel': ['linear', 'poly', 'rbf', 'sigmoid']})"
            ],
            "text/html": [
              "<style>#sk-container-id-2 {color: black;background-color: white;}#sk-container-id-2 pre{padding: 0;}#sk-container-id-2 div.sk-toggleable {background-color: white;}#sk-container-id-2 label.sk-toggleable__label {cursor: pointer;display: block;width: 100%;margin-bottom: 0;padding: 0.3em;box-sizing: border-box;text-align: center;}#sk-container-id-2 label.sk-toggleable__label-arrow:before {content: \"▸\";float: left;margin-right: 0.25em;color: #696969;}#sk-container-id-2 label.sk-toggleable__label-arrow:hover:before {color: black;}#sk-container-id-2 div.sk-estimator:hover label.sk-toggleable__label-arrow:before {color: black;}#sk-container-id-2 div.sk-toggleable__content {max-height: 0;max-width: 0;overflow: hidden;text-align: left;background-color: #f0f8ff;}#sk-container-id-2 div.sk-toggleable__content pre {margin: 0.2em;color: black;border-radius: 0.25em;background-color: #f0f8ff;}#sk-container-id-2 input.sk-toggleable__control:checked~div.sk-toggleable__content {max-height: 200px;max-width: 100%;overflow: auto;}#sk-container-id-2 input.sk-toggleable__control:checked~label.sk-toggleable__label-arrow:before {content: \"▾\";}#sk-container-id-2 div.sk-estimator input.sk-toggleable__control:checked~label.sk-toggleable__label {background-color: #d4ebff;}#sk-container-id-2 div.sk-label input.sk-toggleable__control:checked~label.sk-toggleable__label {background-color: #d4ebff;}#sk-container-id-2 input.sk-hidden--visually {border: 0;clip: rect(1px 1px 1px 1px);clip: rect(1px, 1px, 1px, 1px);height: 1px;margin: -1px;overflow: hidden;padding: 0;position: absolute;width: 1px;}#sk-container-id-2 div.sk-estimator {font-family: monospace;background-color: #f0f8ff;border: 1px dotted black;border-radius: 0.25em;box-sizing: border-box;margin-bottom: 0.5em;}#sk-container-id-2 div.sk-estimator:hover {background-color: #d4ebff;}#sk-container-id-2 div.sk-parallel-item::after {content: \"\";width: 100%;border-bottom: 1px solid gray;flex-grow: 1;}#sk-container-id-2 div.sk-label:hover label.sk-toggleable__label {background-color: #d4ebff;}#sk-container-id-2 div.sk-serial::before {content: \"\";position: absolute;border-left: 1px solid gray;box-sizing: border-box;top: 0;bottom: 0;left: 50%;z-index: 0;}#sk-container-id-2 div.sk-serial {display: flex;flex-direction: column;align-items: center;background-color: white;padding-right: 0.2em;padding-left: 0.2em;position: relative;}#sk-container-id-2 div.sk-item {position: relative;z-index: 1;}#sk-container-id-2 div.sk-parallel {display: flex;align-items: stretch;justify-content: center;background-color: white;position: relative;}#sk-container-id-2 div.sk-item::before, #sk-container-id-2 div.sk-parallel-item::before {content: \"\";position: absolute;border-left: 1px solid gray;box-sizing: border-box;top: 0;bottom: 0;left: 50%;z-index: -1;}#sk-container-id-2 div.sk-parallel-item {display: flex;flex-direction: column;z-index: 1;position: relative;background-color: white;}#sk-container-id-2 div.sk-parallel-item:first-child::after {align-self: flex-end;width: 50%;}#sk-container-id-2 div.sk-parallel-item:last-child::after {align-self: flex-start;width: 50%;}#sk-container-id-2 div.sk-parallel-item:only-child::after {width: 0;}#sk-container-id-2 div.sk-dashed-wrapped {border: 1px dashed gray;margin: 0 0.4em 0.5em 0.4em;box-sizing: border-box;padding-bottom: 0.4em;background-color: white;}#sk-container-id-2 div.sk-label label {font-family: monospace;font-weight: bold;display: inline-block;line-height: 1.2em;}#sk-container-id-2 div.sk-label-container {text-align: center;}#sk-container-id-2 div.sk-container {/* jupyter's `normalize.less` sets `[hidden] { display: none; }` but bootstrap.min.css set `[hidden] { display: none !important; }` so we also need the `!important` here to be able to override the default hidden behavior on the sphinx rendered scikit-learn.org. See: https://github.com/scikit-learn/scikit-learn/issues/21755 */display: inline-block !important;position: relative;}#sk-container-id-2 div.sk-text-repr-fallback {display: none;}</style><div id=\"sk-container-id-2\" class=\"sk-top-container\"><div class=\"sk-text-repr-fallback\"><pre>GridSearchCV(cv=5, estimator=SVC(),\n",
              "             param_grid={&#x27;C&#x27;: [0.1, 1, 10, 100], &#x27;degree&#x27;: [2, 3, 4],\n",
              "                         &#x27;gamma&#x27;: [&#x27;scale&#x27;, &#x27;auto&#x27;],\n",
              "                         &#x27;kernel&#x27;: [&#x27;linear&#x27;, &#x27;poly&#x27;, &#x27;rbf&#x27;, &#x27;sigmoid&#x27;]})</pre><b>In a Jupyter environment, please rerun this cell to show the HTML representation or trust the notebook. <br />On GitHub, the HTML representation is unable to render, please try loading this page with nbviewer.org.</b></div><div class=\"sk-container\" hidden><div class=\"sk-item sk-dashed-wrapped\"><div class=\"sk-label-container\"><div class=\"sk-label sk-toggleable\"><input class=\"sk-toggleable__control sk-hidden--visually\" id=\"sk-estimator-id-4\" type=\"checkbox\" ><label for=\"sk-estimator-id-4\" class=\"sk-toggleable__label sk-toggleable__label-arrow\">GridSearchCV</label><div class=\"sk-toggleable__content\"><pre>GridSearchCV(cv=5, estimator=SVC(),\n",
              "             param_grid={&#x27;C&#x27;: [0.1, 1, 10, 100], &#x27;degree&#x27;: [2, 3, 4],\n",
              "                         &#x27;gamma&#x27;: [&#x27;scale&#x27;, &#x27;auto&#x27;],\n",
              "                         &#x27;kernel&#x27;: [&#x27;linear&#x27;, &#x27;poly&#x27;, &#x27;rbf&#x27;, &#x27;sigmoid&#x27;]})</pre></div></div></div><div class=\"sk-parallel\"><div class=\"sk-parallel-item\"><div class=\"sk-item\"><div class=\"sk-label-container\"><div class=\"sk-label sk-toggleable\"><input class=\"sk-toggleable__control sk-hidden--visually\" id=\"sk-estimator-id-5\" type=\"checkbox\" ><label for=\"sk-estimator-id-5\" class=\"sk-toggleable__label sk-toggleable__label-arrow\">estimator: SVC</label><div class=\"sk-toggleable__content\"><pre>SVC()</pre></div></div></div><div class=\"sk-serial\"><div class=\"sk-item\"><div class=\"sk-estimator sk-toggleable\"><input class=\"sk-toggleable__control sk-hidden--visually\" id=\"sk-estimator-id-6\" type=\"checkbox\" ><label for=\"sk-estimator-id-6\" class=\"sk-toggleable__label sk-toggleable__label-arrow\">SVC</label><div class=\"sk-toggleable__content\"><pre>SVC()</pre></div></div></div></div></div></div></div></div></div></div>"
            ]
          },
          "metadata": {},
          "execution_count": 28
        }
      ]
    },
    {
      "cell_type": "code",
      "source": [
        "from sklearn.metrics import mean_squared_error\n",
        "from sklearn.model_selection import cross_val_score\n",
        "from sklearn.model_selection import KFold\n",
        "from sklearn.metrics import accuracy_score\n",
        "\n",
        "# fit svc model\n",
        "svc.fit(X_train, y_train)\n",
        "\n",
        "print(\"Making presictions for the following in the training set:\")\n",
        "predicted_values = svc.predict(X_train[0:10,:])\n",
        "true_values = y_train[0:10]\n",
        "print(\"True values are \", true_values)\n",
        "print(\"The predicted values are\", predicted_values)\n",
        "print(\"Diff\", abs(predicted_values - true_values))\n",
        "\n",
        "print(\"Making predictions for the following in the test set:\")\n",
        "predicted_values = svc.predict(X_test[0:10,:])\n",
        "true_values = y_test[0:10]\n",
        "print(\"True values are \", true_values)\n",
        "print(\"The predicted values are\", predicted_values)\n",
        "print(\"Diff\", abs(predicted_values - true_values))\n",
        "\n",
        "\n",
        "# Average Training error\n",
        "svcTrain = y_train - svc.predict(X_train)\n",
        "print(\"Average Training Error \", np.absolute(svcTrain).mean())\n",
        "\n",
        "# Average Test Error\n",
        "svcTest = y_test - svc.predict(X_test)\n",
        "print(\"Average Test Error \", np.absolute(svcTest).mean())\n",
        "\n",
        "# Accuracy Score for Test set\n",
        "testing_accuracy = accuracy_score(true_values, predicted_values, normalize=False)\n",
        "print(\"Accuracy Score in Test Set\", testing_accuracy)"
      ],
      "metadata": {
        "colab": {
          "base_uri": "https://localhost:8080/"
        },
        "id": "n1NVk-B_c5sA",
        "outputId": "ceeba15d-e878-41e9-f7ab-7560bfcc6fd9"
      },
      "execution_count": 31,
      "outputs": [
        {
          "output_type": "stream",
          "name": "stdout",
          "text": [
            "Making presictions for the following in the training set:\n",
            "True values are  [5 2 3 2 6 5 5 5 4 0]\n",
            "The predicted values are [5 4 3 2 6 5 5 5 4 0]\n",
            "Diff [0 2 0 0 0 0 0 0 0 0]\n",
            "Making predictions for the following in the test set:\n",
            "True values are  [5 0 5 5 3 5 2 5 1 3]\n",
            "The predicted values are [5 0 5 5 3 5 2 5 1 3]\n",
            "Diff [0 0 0 0 0 0 0 0 0 0]\n",
            "Average Training Error  0.19985304922850844\n",
            "Average Test Error  0.2016158648549394\n",
            "Accuracy Score in Test Set 10\n"
          ]
        }
      ]
    },
    {
      "cell_type": "code",
      "source": [
        "# !pip install --upgrade scikit-learn\n",
        "\n",
        "# # Confusion Matrix Plot\n",
        "# import matplotlib.pyplot as plt\n",
        "# from sklearn.metrics import plot_confusion_matrix\n",
        "# from sklearn.metrics import confusion_matrix\n",
        "\n",
        "# # confusion matrix plot for training data with numbers included\n",
        "# plot_confusion_matrix(svc, X_train, y_train, values_format=\"d\")\n",
        "\n",
        "# # confusion matrix plot for test data with numbers included\n",
        "# plot_confusion_matrix(svc, X_test, y_test)"
      ],
      "metadata": {
        "id": "HSDVtdDVj3Ux"
      },
      "execution_count": 45,
      "outputs": []
    },
    {
      "cell_type": "code",
      "source": [
        "# Average Training Accuracy\n",
        "training_accuracy = accuracy_score(y_train, svc.predict(X_train))\n",
        "print(\"Average Training Accuracy \", training_accuracy)\n",
        "\n",
        "# Average Testing Accuracy\n",
        "testing_accuracy = accuracy_score(y_test, svc.predict(X_test))\n",
        "print(\"Average Testing Accuracy \", testing_accuracy)"
      ],
      "metadata": {
        "colab": {
          "base_uri": "https://localhost:8080/"
        },
        "id": "5lwNGd0DoMiz",
        "outputId": "8171fc20-f5ff-4ecd-fed2-4bb6da0d1d8c"
      },
      "execution_count": 49,
      "outputs": [
        {
          "output_type": "stream",
          "name": "stdout",
          "text": [
            "Average Training Accuracy  0.9211976487876561\n",
            "Average Testing Accuracy  0.9258171134777818\n"
          ]
        }
      ]
    },
    {
      "cell_type": "code",
      "source": [
        "# save the model to a file \n",
        "pickle.dump(svc, open(\"learning_model.p\", \"wb\"))"
      ],
      "metadata": {
        "id": "n-Jd1H-Ao_ps"
      },
      "execution_count": 52,
      "outputs": []
    },
    {
      "cell_type": "markdown",
      "source": [
        "## Model 2"
      ],
      "metadata": {
        "id": "7oL9lxfTrREB"
      }
    },
    {
      "cell_type": "code",
      "source": [
        "import tensorflow as tf\n",
        "from tensorflow import keras\n",
        "from keras.models import Sequential\n",
        "from keras.layers import Dense\n",
        "\n",
        "def get_NN_model1(n_inputs, n_outputs):\n",
        "  nn_model = Sequential()\n",
        "\n",
        "  nn_model.add(tf.keras.layers.Dense(50, activation='relu'))\n",
        "  nn_model.add(tf.keras.layers.Dense(100, activation='relu'))\n",
        "  nn_model.add(tf.keras.layers.Dense(50, activation='relu'))\n",
        "  nn_model.add(tf.keras.layers.Dense(1))\n",
        "\n",
        "  nn_model.compile('adam', loss='mse', metrics=['mse'])\n",
        "  return nn_model\n",
        "\n",
        "# get the model \n",
        "def get_NN_model2(n_inputs, n_outputs):\n",
        "  network = Sequential()\n",
        "  network.add(Dense(n_inputs, input_shape=(n_inputs,), kernel_initializer='normal', activation='relu'))\n",
        "\n",
        "  network.add(Dense(n_outputs, activation='relu'))\n",
        "\n",
        "  network.compile('adam', loss='mse', metrics=['mse'])\n",
        "  return network"
      ],
      "metadata": {
        "id": "pRuXsDferVDu"
      },
      "execution_count": 60,
      "outputs": []
    },
    {
      "cell_type": "code",
      "source": [
        "print(X_train.shape[1])\n",
        "n_inputs = X_train.shape[1]\n",
        "n_outputs = 1\n",
        "\n",
        "# get the model\n",
        "nn_model = get_NN_model2(n_inputs, n_outputs)"
      ],
      "metadata": {
        "colab": {
          "base_uri": "https://localhost:8080/"
        },
        "id": "tcHC8tSJtMnM",
        "outputId": "e9f02652-0450-45db-a2e5-5d53ad32bf46"
      },
      "execution_count": 61,
      "outputs": [
        {
          "output_type": "stream",
          "name": "stdout",
          "text": [
            "16\n"
          ]
        }
      ]
    },
    {
      "cell_type": "markdown",
      "source": [
        "## Train the model"
      ],
      "metadata": {
        "id": "vO6QVSlkumgJ"
      }
    },
    {
      "cell_type": "code",
      "source": [
        "# Explore train vs validation error for different epochs\n",
        "nn_model.fit(X_train, y_train, verbose=1, epochs=20, batch_size=0, validation_data=(X_val, y_val))\n"
      ],
      "metadata": {
        "colab": {
          "base_uri": "https://localhost:8080/"
        },
        "id": "d3s9SKR6ukvI",
        "outputId": "1113bfdc-6e05-4a5d-f2b2-454f5f894f6f"
      },
      "execution_count": 62,
      "outputs": [
        {
          "output_type": "stream",
          "name": "stdout",
          "text": [
            "Epoch 1/20\n",
            "171/171 [==============================] - 2s 6ms/step - loss: 9.6564 - mse: 9.6564 - val_loss: 4.3200 - val_mse: 4.3200\n",
            "Epoch 2/20\n",
            "171/171 [==============================] - 1s 7ms/step - loss: 3.5616 - mse: 3.5616 - val_loss: 3.3453 - val_mse: 3.3453\n",
            "Epoch 3/20\n",
            "171/171 [==============================] - 1s 4ms/step - loss: 3.0942 - mse: 3.0942 - val_loss: 3.0386 - val_mse: 3.0386\n",
            "Epoch 4/20\n",
            "171/171 [==============================] - 1s 4ms/step - loss: 2.8331 - mse: 2.8331 - val_loss: 2.8256 - val_mse: 2.8256\n",
            "Epoch 5/20\n",
            "171/171 [==============================] - 1s 4ms/step - loss: 2.6664 - mse: 2.6664 - val_loss: 2.7071 - val_mse: 2.7071\n",
            "Epoch 6/20\n",
            "171/171 [==============================] - 1s 4ms/step - loss: 2.5747 - mse: 2.5747 - val_loss: 2.6307 - val_mse: 2.6307\n",
            "Epoch 7/20\n",
            "171/171 [==============================] - 1s 4ms/step - loss: 2.5244 - mse: 2.5244 - val_loss: 2.5890 - val_mse: 2.5890\n",
            "Epoch 8/20\n",
            "171/171 [==============================] - 1s 4ms/step - loss: 2.4977 - mse: 2.4977 - val_loss: 2.5639 - val_mse: 2.5639\n",
            "Epoch 9/20\n",
            "171/171 [==============================] - 1s 4ms/step - loss: 2.4801 - mse: 2.4801 - val_loss: 2.5448 - val_mse: 2.5448\n",
            "Epoch 10/20\n",
            "171/171 [==============================] - 1s 3ms/step - loss: 2.4649 - mse: 2.4649 - val_loss: 2.5283 - val_mse: 2.5283\n",
            "Epoch 11/20\n",
            "171/171 [==============================] - 1s 4ms/step - loss: 2.4524 - mse: 2.4524 - val_loss: 2.5268 - val_mse: 2.5268\n",
            "Epoch 12/20\n",
            "171/171 [==============================] - 1s 4ms/step - loss: 2.4378 - mse: 2.4378 - val_loss: 2.4988 - val_mse: 2.4988\n",
            "Epoch 13/20\n",
            "171/171 [==============================] - 1s 3ms/step - loss: 2.4247 - mse: 2.4247 - val_loss: 2.4839 - val_mse: 2.4839\n",
            "Epoch 14/20\n",
            "171/171 [==============================] - 1s 4ms/step - loss: 2.4122 - mse: 2.4122 - val_loss: 2.4701 - val_mse: 2.4701\n",
            "Epoch 15/20\n",
            "171/171 [==============================] - 1s 3ms/step - loss: 2.3977 - mse: 2.3977 - val_loss: 2.4559 - val_mse: 2.4559\n",
            "Epoch 16/20\n",
            "171/171 [==============================] - 1s 4ms/step - loss: 2.3874 - mse: 2.3874 - val_loss: 2.4430 - val_mse: 2.4430\n",
            "Epoch 17/20\n",
            "171/171 [==============================] - 1s 3ms/step - loss: 2.3762 - mse: 2.3762 - val_loss: 2.4335 - val_mse: 2.4335\n",
            "Epoch 18/20\n",
            "171/171 [==============================] - 1s 4ms/step - loss: 2.3659 - mse: 2.3659 - val_loss: 2.4178 - val_mse: 2.4178\n",
            "Epoch 19/20\n",
            "171/171 [==============================] - 1s 7ms/step - loss: 2.3531 - mse: 2.3531 - val_loss: 2.4050 - val_mse: 2.4050\n",
            "Epoch 20/20\n",
            "171/171 [==============================] - 1s 4ms/step - loss: 2.3414 - mse: 2.3414 - val_loss: 2.3946 - val_mse: 2.3946\n"
          ]
        },
        {
          "output_type": "execute_result",
          "data": {
            "text/plain": [
              "<keras.callbacks.History at 0x7fc3b41358a0>"
            ]
          },
          "metadata": {},
          "execution_count": 62
        }
      ]
    },
    {
      "cell_type": "code",
      "source": [
        "print(\"The predictions using NN are\")\n",
        "print(nn_model.predict(X_train))"
      ],
      "metadata": {
        "colab": {
          "base_uri": "https://localhost:8080/"
        },
        "id": "vBAL0VmOvXUs",
        "outputId": "0ad151ce-6175-42b3-ee42-cda38328932c"
      },
      "execution_count": 64,
      "outputs": [
        {
          "output_type": "stream",
          "name": "stdout",
          "text": [
            "The predictions using NN are\n",
            "171/171 [==============================] - 0s 1ms/step\n",
            "[[4.017578 ]\n",
            " [2.7750516]\n",
            " [4.028748 ]\n",
            " ...\n",
            " [3.6671898]\n",
            " [1.9938672]\n",
            " [3.567826 ]]\n"
          ]
        }
      ]
    },
    {
      "cell_type": "code",
      "source": [
        "y_pred_NN = nn_model.predict(X_train)\n",
        "print(y_pred_NN)"
      ],
      "metadata": {
        "colab": {
          "base_uri": "https://localhost:8080/"
        },
        "id": "JXPVFaaCvoYF",
        "outputId": "fc25f26c-64bb-4058-c115-7e7b102000e0"
      },
      "execution_count": 66,
      "outputs": [
        {
          "output_type": "stream",
          "name": "stdout",
          "text": [
            "171/171 [==============================] - 0s 1ms/step\n",
            "[[4.017578 ]\n",
            " [2.7750516]\n",
            " [4.028748 ]\n",
            " ...\n",
            " [3.6671898]\n",
            " [1.9938672]\n",
            " [3.567826 ]]\n"
          ]
        }
      ]
    },
    {
      "cell_type": "code",
      "source": [
        "from pandas import read_csv\n",
        "from sklearn.model_selection import cross_val_score\n",
        "from sklearn.model_selection import KFold\n",
        "from datetime import datetime\n",
        "\n",
        "predicted_train = nn_model.predict(X_train)\n",
        "predicted_val = nn_model.predict(X_val)\n",
        "predicted_test = nn_model.predict(X_test)\n",
        "\n",
        "y_train = y_train.flatten()\n",
        "y_val = y_val.flatten()\n",
        "y_test = y_test.flatten()\n",
        "\n",
        "predicted_train = predicted_train.flatten()\n",
        "predicted_val = predicted_val.flatten()\n",
        "predicted_test = predicted_test.flatten()\n",
        "\n",
        "print(predicted_train.flatten())\n",
        "print(predicted_val.flatten())\n",
        "print(predicted_test.flatten())\n",
        "\n",
        "timeStr = datetime.now().strftime(\"%Y%m%d-%H%M%S\")\n",
        "\n",
        "# write to file\n",
        "df = pd.DataFrame({'y_train':y_train, 'predicted_train':predicted_train})\n",
        "df.to_csv(\"train_error\"+timeStr+\".csv\")\n",
        "\n",
        "df = pd.DataFrame({'y_val':y_val, 'predicted_val':predicted_val})\n",
        "df.to_csv(\"val_error\"+timeStr+\".csv\")\n",
        "\n",
        "df = pd.DataFrame({'y_test':y_test, 'predicted_test':predicted_test})\n",
        "df.to_csv(\"test_error\"+timeStr+\".csv\")"
      ],
      "metadata": {
        "colab": {
          "base_uri": "https://localhost:8080/"
        },
        "id": "lybL_buwv2DT",
        "outputId": "fd47c86b-0783-4c9b-8731-3a3801308ccb"
      },
      "execution_count": 75,
      "outputs": [
        {
          "output_type": "stream",
          "name": "stdout",
          "text": [
            "171/171 [==============================] - 0s 1ms/step\n",
            "171/171 [==============================] - 0s 1ms/step\n",
            "86/86 [==============================] - 0s 1ms/step\n",
            "[4.017578  2.7750516 4.028748  ... 3.6671898 1.9938672 3.567826 ]\n",
            "[4.413442  4.4068627 3.737483  ... 4.4133215 4.0711055 2.4109006]\n",
            "[3.9280312 1.9299835 4.0504494 ... 4.5337563 2.4867465 4.0176153]\n"
          ]
        }
      ]
    },
    {
      "cell_type": "code",
      "source": [
        "# Average Training Error\n",
        "dataTrain_NN= y_train = predicted_train.flatten()\n",
        "print(\"Average Train Error \", np.absolute(dataTrain_NN).mean())\n",
        "\n",
        "# Average val Error\n",
        "dataVal_NN = y_val - predicted_val.flatten()\n",
        "print(\"Average val Error \", np.absolute(dataVal_NN).mean())\n",
        "\n",
        "# Average Test Error\n",
        "dataTest_NN = y_test - predicted_test.flatten()\n",
        "print(\"Average test error \", np.absolute(dataTest_NN).mean())"
      ],
      "metadata": {
        "colab": {
          "base_uri": "https://localhost:8080/"
        },
        "id": "je-FxbjqFP0j",
        "outputId": "bec3d0a5-2f23-4ae8-d45b-deb6964f0e9d"
      },
      "execution_count": 76,
      "outputs": [
        {
          "output_type": "stream",
          "name": "stdout",
          "text": [
            "Average Train Error  3.4873657\n",
            "Average val Error  1.345107255362571\n",
            "Average test error  1.3302989898798792\n"
          ]
        }
      ]
    }
  ]
}